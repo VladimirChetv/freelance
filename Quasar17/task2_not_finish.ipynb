{
  "nbformat": 4,
  "nbformat_minor": 0,
  "metadata": {
    "colab": {
      "name": "homework2.ipynb",
      "provenance": [],
      "collapsed_sections": []
    },
    "kernelspec": {
      "name": "python3",
      "display_name": "Python 3"
    },
    "language_info": {
      "name": "python"
    },
    "accelerator": "GPU"
  },
  "cells": [
    {
      "cell_type": "markdown",
      "source": [
        "# Домашнее задание 2. Нейронные сети\n",
        "## Фамилия Имя Группа"
      ],
      "metadata": {
        "id": "7uLSt3vBI0zr"
      }
    },
    {
      "cell_type": "markdown",
      "source": [
        "В зависимости от варианта, для решения задачи используйте следующие наборы данных:\n",
        "\n",
        "<table>\n",
        "    <thead>\n",
        "         <tr>\n",
        "            <th colspan=1>Задача классификации</th>\n",
        "            <th colspan=5>Задача регрессии</th>\n",
        "        </tr>\n",
        "        <tr>\n",
        "            <th> </th>\n",
        "            <th>A</th>\n",
        "            <th>B</th>\n",
        "            <th>C</th>\n",
        "            <th>D</th>\n",
        "            <th>E</th>\n",
        "        </tr>\n",
        "    </thead>\n",
        "    <tbody>\n",
        "        <tr>\n",
        "            <td>K</td>\n",
        "            <td>1</td>\n",
        "            <td>2</td>\n",
        "            <td>3</td>\n",
        "            <td>4</td>\n",
        "            <td>5</td>\n",
        "        </tr>\n",
        "        <tr>\n",
        "            <td>L</td>\n",
        "            <td>6</td>\n",
        "            <td>7</td>\n",
        "            <td>8</td>\n",
        "            <td>9</td>\n",
        "            <td>10</td>\n",
        "        </tr>\n",
        "        <tr>\n",
        "            <td>M</td>\n",
        "            <td>11</td>\n",
        "            <td>12</td>\n",
        "            <td>13</td>\n",
        "            <td>14</td>\n",
        "            <td>15</td>\n",
        "        </tr>\n",
        "        <tr>\n",
        "            <td>N</td>\n",
        "            <td>16</td>\n",
        "            <td>17</td>\n",
        "            <td>18</td>\n",
        "            <td>19</td>\n",
        "            <td>20</td>\n",
        "        </tr>\n",
        "        <tr>\n",
        "            <td>O</td>\n",
        "            <td>21</td>\n",
        "            <td>22</td>\n",
        "            <td>23</td>\n",
        "            <td>24</td>\n",
        "            <td>25</td>\n",
        "        </tr>\n",
        "    </tbody>\n",
        "</table>\n",
        "\n",
        "### Наборы данных\n",
        "\n",
        "**Задача регрессии**\n",
        "\n",
        "A. [Набор данных](https://www.kaggle.com/aungpyaeap/fish-market) Таблица `Fish.csv`. Задача: построить модель, предсказывающую вес рыбы (колонка `Weight`). Baseline: RMSE (root mean square error) = 83.7\n",
        "\n",
        "B. [Набор данных](https://www.kaggle.com/nehalbirla/vehicle-dataset-from-cardekho) Таблица `Car details v3.csv`. Задача: построить модель, предсказывающую стоимость автомобиля (колонка `selling_price`). Baseline: RMSE (root mean square error) = 110000\n",
        "\n",
        "C. [Набор данных](https://www.kaggle.com/quantbruce/real-estate-price-prediction) Таблица `Real estate.csv`. Задача: построить модель, предсказывающую стоимость квадратного метра жилья (колонка `Y house price of unit area`). Baseline: RMSE (root mean square error) = 8\n",
        "\n",
        "D. [Набор данных](https://www.kaggle.com/mirichoi0218/insurance) Таблица `insurance.csv`. Задача: построить модель, предсказывающую стоимость медицинской страховки (колонка `charges`). Baseline: RMSE (root mean square error) = 5800\n",
        "\n",
        "E. [Набор данных](https://archive.ics.uci.edu/ml/machine-learning-databases/wine-quality/) Объединить таблицы `winequality-white.csv` и `winequality-red.csv`. Задача: построить модель, предсказывающую качество вина (колонка `quality`). Baseline: RMSE (root mean square error) = 0.8\n",
        "\n",
        "\n",
        "---\n",
        "\n",
        "**Задача классификации**\n",
        "\n",
        "K. [Набор данных](https://www.kaggle.com/c/jigsaw-toxic-comment-classification-challenge/data) Таблица `train.csv`. Задача: детектировать токсичные комментарии (0 или 1 в колонке `toxic`) исключительно по содержимому комментария (колонка `comment_text`). Baseline: sklearn.metrics.f1_score(average='macro') по колонке `toxic` = 0.86\n",
        "\n",
        "L. [Набор данных](https://www.kaggle.com/pavansubhasht/ibm-hr-analytics-attrition-dataset) Таблица `WA_Fn-UseC_-HR-Employee-Attrition.csv`. Задача: предсказать увольнение сотрудника (колонка `attrition`). Baseline: sklearn.metrics.f1_score(average='macro') = 0.70\n",
        "\n",
        "M. [Набор данных](https://www.kaggle.com/uciml/sms-spam-collection-dataset) Таблица `spam.csv` (при загрузку датасета в питоне использовать кодировку encoding='latin-1'). Задача: детектировать, является ли СМС-сообщение спамом. Baseline: sklearn.metrics.f1_score(average='macro') = 0.95\n",
        "\n",
        "N. [Набор данных](https://www.kaggle.com/uciml/pima-indians-diabetes-database) Таблица `diabetes.csv`. Задача: детектировать, есть ли у человека диабет. Baseline: sklearn.metrics.f1_score(average='macro') = 0.73\n",
        "\n",
        "O. [Набор данных](https://www.kaggle.com/fedesoriano/stroke-prediction-dataset) Таблица `healthcare-dataset-stroke-data.csv`. Задача: детектировать, был ли у человека инсульт. Baseline: sklearn.metrics.f1_score(average='macro') = 0.56\n"
      ],
      "metadata": {
        "id": "2JxNVonhRMgf"
      }
    },
    {
      "cell_type": "markdown",
      "source": [
        "# 0. Инициализация библиотек"
      ],
      "metadata": {
        "id": "zsqatIg_JBu7"
      }
    },
    {
      "cell_type": "code",
      "source": [
        "import pandas as pd\n",
        "import numpy as np\n",
        "\n",
        "import torch\n",
        "from sklearn.metrics import f1_score, classification_report, mean_squared_error\n",
        "import torch.nn as nn\n",
        "import pandas as pd\n",
        "import matplotlib.pyplot as plt\n",
        "import torch.nn.functional as F\n",
        "from torch.utils.data import DataLoader, TensorDataset, random_split, Dataset\n",
        "from sklearn.preprocessing import StandardScaler\n",
        "from torch.utils.data.sampler import SubsetRandomSampler\n",
        "from tqdm import tqdm\n",
        "from tqdm.notebook import tqdm\n",
        "import warnings\n",
        "warnings.filterwarnings(\"ignore\")"
      ],
      "metadata": {
        "id": "WGZt4ftTJxg4"
      },
      "execution_count": 4,
      "outputs": []
    },
    {
      "cell_type": "code",
      "source": [
        "from google.colab import drive\n",
        "drive.mount('/content/drive')"
      ],
      "metadata": {
        "colab": {
          "base_uri": "https://localhost:8080/"
        },
        "id": "9iM4UM38ceEZ",
        "outputId": "a04ac85b-e08c-4efa-e6d8-2a5dc72e9af9"
      },
      "execution_count": 5,
      "outputs": [
        {
          "output_type": "stream",
          "name": "stdout",
          "text": [
            "Drive already mounted at /content/drive; to attempt to forcibly remount, call drive.mount(\"/content/drive\", force_remount=True).\n"
          ]
        }
      ]
    },
    {
      "cell_type": "code",
      "source": [
        "%cd \"/content/drive/My Drive/Python/Quasar17\""
      ],
      "metadata": {
        "colab": {
          "base_uri": "https://localhost:8080/"
        },
        "id": "h3ZFMXaBciY7",
        "outputId": "295aaf77-ee6e-4d1f-89a1-1df2b4b399e8"
      },
      "execution_count": 6,
      "outputs": [
        {
          "output_type": "stream",
          "name": "stdout",
          "text": [
            "/content/drive/My Drive/Python/Quasar17\n"
          ]
        }
      ]
    },
    {
      "cell_type": "markdown",
      "source": [
        "# 1. Искусственная неронная сеть для решения задачи регрессии (9 баллов)"
      ],
      "metadata": {
        "id": "5oGgl1uGJBxH"
      }
    },
    {
      "cell_type": "markdown",
      "source": [
        "## 1.1 Загрузите данные, поделить на train и test\n",
        "## 1.2 По необходимости проведите преодбработку/нормализацию данных\n",
        "\n"
      ],
      "metadata": {
        "id": "qV47VXssLKa9"
      }
    },
    {
      "cell_type": "markdown",
      "source": [
        " Воспользуемся алгоритмом предобработки данных из предыдущего задания"
      ],
      "metadata": {
        "id": "g55hMMILcn0T"
      }
    },
    {
      "cell_type": "code",
      "source": [
        "df = pd.read_csv('Car details v3.csv')"
      ],
      "metadata": {
        "id": "XjIoB9zTKAY2"
      },
      "execution_count": 145,
      "outputs": []
    },
    {
      "cell_type": "code",
      "source": [
        "# уберем пропуски и неинформативный столбец name\n",
        "df.dropna(inplace=True)\n",
        "# добавим возраст авто\n",
        "df['age'] = 2022 - df['year']\n",
        "df.drop(['year'],axis = 1,inplace = True)\n",
        "\n",
        "# преобразуем часть признаков в числовые и seats в категориальный\n",
        "df['mileage'] = df['mileage'].str.strip('kmpl').str.strip('km/kg')\n",
        "df['engine'] = df['engine'].str.strip('CC')\n",
        "df['max_power'] = df['max_power'].str.strip('bhp').str.strip()\n",
        "df['mileage'] = pd.to_numeric(df['mileage'])\n",
        "df['engine'] = pd.to_numeric(df['engine'])\n",
        "df['max_power'] = pd.to_numeric(df['max_power'])\n",
        "df['seats'] = df['seats'].astype(str)"
      ],
      "metadata": {
        "id": "wtCKX0d-cvs4"
      },
      "execution_count": 146,
      "outputs": []
    },
    {
      "cell_type": "code",
      "source": [
        "# Преобразуем признаки и уберем часть выбросов\n",
        "df_model = df.copy()\n",
        "\n",
        "# преобразуем name в brand авто\n",
        "df_model.drop(['name'],axis=1,inplace=True)\n",
        "\n",
        "# уберем выбросы в цене\n",
        "df_model = df_model[df_model['selling_price'] < 1200000]\n",
        "#df_model['selling_price'] = np.log(df_model['selling_price'])\n",
        "\n",
        "# уберем выбросы в engine\n",
        "df_model = df_model[df_model['engine'] < 2000]\n",
        "\n",
        "# Уберем выбросы в km_driven\n",
        "df_model = df_model[df_model['km_driven'] < 180000]\n",
        "\n",
        "# уберем редковстречающиеся значений fuel \n",
        "df_model = df_model[~df_model['fuel'].isin(['CNG','LPG'])]\n",
        "\n",
        "# уберем выбросы в mileage\n",
        "df_model = df_model[(df_model['mileage'] > 5) & (df_model['mileage'] < 35)]\n",
        "\n",
        "# уберем выбросы в max_power\n",
        "df_model = df_model[df_model['max_power'] < 130]\n",
        "df_model = df_model[df_model['age'] < 20]\n",
        "\n",
        "df_model.drop(['torque'],axis=1,inplace=True)\n",
        "\n"
      ],
      "metadata": {
        "id": "4mMt0Derc-iB"
      },
      "execution_count": 359,
      "outputs": []
    },
    {
      "cell_type": "code",
      "source": [
        "categorical_cols = df_model.select_dtypes('object').columns.to_list()\n",
        "for col in categorical_cols:\n",
        "        df_model[col] = df_model[col].astype('category').cat.codes"
      ],
      "metadata": {
        "id": "7My_ksEVjEX_"
      },
      "execution_count": 361,
      "outputs": []
    },
    {
      "cell_type": "code",
      "source": [
        "X, y = df_model.drop(['selling_price'], axis = 1), df_model['selling_price']\n",
        "scaler = StandardScaler()\n",
        "# X = scaler.fit_transform(X)"
      ],
      "metadata": {
        "id": "25DBQfEdjLUD"
      },
      "execution_count": 362,
      "outputs": []
    },
    {
      "cell_type": "code",
      "source": [
        "X=(X-X.mean())/X.std()"
      ],
      "metadata": {
        "id": "hYI4wgwVUy-p"
      },
      "execution_count": 363,
      "outputs": []
    },
    {
      "cell_type": "code",
      "source": [
        "# подготовка данных\n",
        "def prepare_data(X,y, batch_size):\n",
        "    train_size = int(0.8 * X.shape[0])\n",
        "    val_size = int(X.shape[0] - train_size)\n",
        "    X = X.to_numpy()\n",
        "    y = y.to_numpy()\n",
        "\n",
        "    X_tensor = torch.Tensor(X)\n",
        "    y_tensor = torch.Tensor(y)\n",
        "\n",
        "    dataset = TensorDataset(X_tensor, y_tensor)\n",
        "    train_ds, val_ds = random_split(dataset, [train_size, val_size])\n",
        "\n",
        "    train_loader = DataLoader(train_ds, batch_size=batch_size,\n",
        "                                              shuffle=True)\n",
        "\n",
        "    val_loader = DataLoader(val_ds, batch_size=batch_size,\n",
        "                                             shuffle=False)\n",
        "    return train_loader, val_loader"
      ],
      "metadata": {
        "id": "HVp6l6-KGZsE"
      },
      "execution_count": 364,
      "outputs": []
    },
    {
      "cell_type": "code",
      "source": [
        "# обучение\n",
        "def fit(epochs, model, loss_func, opt, train_dl, valid_dl):\n",
        "    train_losses = []\n",
        "    train_acc = []\n",
        "    val_losses = []\n",
        "    valid_accuracies = []\n",
        "    for epoch in range(epochs):\n",
        "        model.train()\n",
        "        loss_sum = 0\n",
        "        squared_error = 0\n",
        "        n = 0\n",
        "        for xb, yb in (train_dl):\n",
        "            xb, yb = xb.to(device), yb.to(device)\n",
        "            probs = model(xb)\n",
        "            loss = loss_func(model(xb), yb)\n",
        "            loss_sum += loss.item()\n",
        "            _, preds = torch.max(probs, axis=-1)\n",
        "\n",
        "            squared_error += torch.pow(preds - yb, 2).sum(dim=0).item()\n",
        "            n += yb.shape[0]\n",
        "            \n",
        "            loss.backward()\n",
        "            opt.step()\n",
        "            opt.zero_grad()\n",
        "        train_acc.append(pow(squared_error / n,0.5))\n",
        "        train_losses.append(loss_sum / len(train_dl))\n",
        "\n",
        "        model.eval()\n",
        "        loss_sum = 0\n",
        "        squared_error = 0\n",
        "        n = 0\n",
        "        with torch.no_grad():\n",
        "            for xb, yb in valid_dl:\n",
        "                xb, yb = xb.to(device), yb.to(device)\n",
        "                probs = model(xb)\n",
        "                loss_sum += loss_func(probs, yb).item()\n",
        "                _, preds = torch.max(probs, axis=-1)\n",
        "                squared_error += torch.pow(preds - yb, 2).sum(dim=0).item()\n",
        "                n += yb.shape[0]\n",
        "                \n",
        "        val_losses.append(loss_sum / len(valid_dl))\n",
        "        valid_accuracies.append(pow(squared_error / n,0.5))\n",
        "        \n",
        "    return train_losses, train_acc,  val_losses, valid_accuracies"
      ],
      "metadata": {
        "id": "QWieJrC_kpIJ"
      },
      "execution_count": 365,
      "outputs": []
    },
    {
      "cell_type": "code",
      "source": [
        "# визуализация\n",
        "def plot_trainig(train_losses, train_acc,  valid_losses, valid_accuracies):\n",
        "    plt.figure(figsize=(12, 9))\n",
        "    ax1 = plt.subplot(221)\n",
        "    plt.xlabel('epoch')\n",
        "    ax1.plot(train_losses, label='train_loss')\n",
        "    ax1.plot(valid_losses, label='valid_loss')\n",
        "    ax1.legend()\n",
        "    \n",
        "    ax2 = plt.subplot(222)\n",
        "    plt.xlabel('epoch')\n",
        "    ax2.plot(train_acc, label='train accuracy')\n",
        "    ax2.plot(valid_accuracies, label='valid accuracy')\n",
        "    ax2.legend()"
      ],
      "metadata": {
        "id": "PWsVkYDGIBDk"
      },
      "execution_count": 366,
      "outputs": []
    },
    {
      "cell_type": "markdown",
      "source": [
        "## 1.3 Попробуйте различное количество слоёв\n",
        "\n",
        "Обучите 4 модели, используя различное количество линейных слоёв: 1 (=линейная регрессия), 2, 3, 4. Между двумя линейными слоями должна быть фунция активации, например, сигмоида. На последнем слое функцию активации можно не использовать.\n",
        "\n",
        "Постройте: 1) график loss для train и test в зависимости от используемого количетсва слоёв; 2) график accuracy для train и test в зависимости от используемого количества слоёв."
      ],
      "metadata": {
        "id": "A-zCZL3rHUpH"
      }
    },
    {
      "cell_type": "code",
      "source": [
        "class Model_1(nn.Module):\n",
        "    def __init__(self):\n",
        "        super(Model_1, self).__init__()\n",
        "        self.fc1 = nn.Linear(10, 1) \n",
        "    def forward(self, x):\n",
        "        x = self.fc1(x)\n",
        "        return x"
      ],
      "metadata": {
        "id": "_eg5vNe9IBGb"
      },
      "execution_count": 367,
      "outputs": []
    },
    {
      "cell_type": "code",
      "source": [
        "class Model_2(nn.Module):\n",
        "    def __init__(self):\n",
        "        super(Model_2, self).__init__()\n",
        "        self.fc1 = nn.Linear(10, 30)  \n",
        "        self.fc2 = nn.Linear(30, 1)\n",
        "    def forward(self, x):\n",
        "        x = F.relu(self.fc1(x))\n",
        "        x = self.fc2(x)\n",
        "        return x"
      ],
      "metadata": {
        "id": "0SBJMfVoAfG7"
      },
      "execution_count": 368,
      "outputs": []
    },
    {
      "cell_type": "code",
      "source": [
        "class Model_3(nn.Module):\n",
        "    def __init__(self):\n",
        "        super(Model_3, self).__init__()\n",
        "        self.fc1 = nn.Linear(10, 30)  \n",
        "        self.fc2 = nn.Linear(30, 40)\n",
        "        self.fc3 = nn.Linear(40, 1)\n",
        "\n",
        "    def forward(self, x):\n",
        "        x = F.relu(self.fc1(x))\n",
        "        x = F.relu(self.fc2(x))\n",
        "        x = self.fc3(x)\n",
        "        return x"
      ],
      "metadata": {
        "id": "u23iRwj2AfRG"
      },
      "execution_count": 369,
      "outputs": []
    },
    {
      "cell_type": "code",
      "source": [
        "class Model_4(nn.Module):\n",
        "    def __init__(self):\n",
        "        super(Model_4, self).__init__()\n",
        "        self.fc1 = nn.Linear(10, 16)  \n",
        "        self.fc2 = nn.Linear(16, 32)\n",
        "        self.fc3 = nn.Linear(32, 64)\n",
        "        self.fc4 = nn.Linear(64, 1)\n",
        "\n",
        "    def forward(self, x):\n",
        "        x = F.relu(self.fc1(x))\n",
        "        x = F.relu(self.fc2(x))\n",
        "        x = F.relu(self.fc3(x))\n",
        "        x = self.fc4(x)\n",
        "        return x"
      ],
      "metadata": {
        "id": "ermuR-gaAfZx"
      },
      "execution_count": 370,
      "outputs": []
    },
    {
      "cell_type": "code",
      "source": [
        "device = torch.device('cuda:0') if torch.cuda.is_available else torch.device('cpu')\n",
        "device"
      ],
      "metadata": {
        "colab": {
          "base_uri": "https://localhost:8080/"
        },
        "id": "mY9rPXaEIBJu",
        "outputId": "5063707b-c0e6-4735-e540-8a6c9fc46b8b"
      },
      "execution_count": 32,
      "outputs": [
        {
          "output_type": "execute_result",
          "data": {
            "text/plain": [
              "device(type='cuda', index=0)"
            ]
          },
          "metadata": {},
          "execution_count": 32
        }
      ]
    },
    {
      "cell_type": "code",
      "source": [
        "device = torch.device('cpu')"
      ],
      "metadata": {
        "id": "gAFwJQCW6M32"
      },
      "execution_count": 33,
      "outputs": []
    },
    {
      "cell_type": "code",
      "source": [
        "model_1 = Model_1().to(device)\n",
        "criterion = nn.MSELoss()\n",
        "optimizer = torch.optim.Adam(model_1.parameters(), lr=0.01)\n",
        "info_1 = fit(50, model_1, criterion, optimizer, *prepare_data(X,y,128))"
      ],
      "metadata": {
        "colab": {
          "base_uri": "https://localhost:8080/",
          "height": 222
        },
        "id": "bh5_voaRIBMm",
        "outputId": "a9225238-0e57-4b0d-dcc4-401c06cfc037"
      },
      "execution_count": 34,
      "outputs": [
        {
          "output_type": "error",
          "ename": "NameError",
          "evalue": "ignored",
          "traceback": [
            "\u001b[0;31m---------------------------------------------------------------------------\u001b[0m",
            "\u001b[0;31mNameError\u001b[0m                                 Traceback (most recent call last)",
            "\u001b[0;32m<ipython-input-34-2b7232ecaa4d>\u001b[0m in \u001b[0;36m<module>\u001b[0;34m()\u001b[0m\n\u001b[0;32m----> 1\u001b[0;31m \u001b[0mmodel_1\u001b[0m \u001b[0;34m=\u001b[0m \u001b[0mModel_1\u001b[0m\u001b[0;34m(\u001b[0m\u001b[0;34m)\u001b[0m\u001b[0;34m.\u001b[0m\u001b[0mto\u001b[0m\u001b[0;34m(\u001b[0m\u001b[0mdevice\u001b[0m\u001b[0;34m)\u001b[0m\u001b[0;34m\u001b[0m\u001b[0;34m\u001b[0m\u001b[0m\n\u001b[0m\u001b[1;32m      2\u001b[0m \u001b[0mcriterion\u001b[0m \u001b[0;34m=\u001b[0m \u001b[0mnn\u001b[0m\u001b[0;34m.\u001b[0m\u001b[0mMSELoss\u001b[0m\u001b[0;34m(\u001b[0m\u001b[0;34m)\u001b[0m\u001b[0;34m\u001b[0m\u001b[0;34m\u001b[0m\u001b[0m\n\u001b[1;32m      3\u001b[0m \u001b[0moptimizer\u001b[0m \u001b[0;34m=\u001b[0m \u001b[0mtorch\u001b[0m\u001b[0;34m.\u001b[0m\u001b[0moptim\u001b[0m\u001b[0;34m.\u001b[0m\u001b[0mAdam\u001b[0m\u001b[0;34m(\u001b[0m\u001b[0mmodel_1\u001b[0m\u001b[0;34m.\u001b[0m\u001b[0mparameters\u001b[0m\u001b[0;34m(\u001b[0m\u001b[0;34m)\u001b[0m\u001b[0;34m,\u001b[0m \u001b[0mlr\u001b[0m\u001b[0;34m=\u001b[0m\u001b[0;36m0.01\u001b[0m\u001b[0;34m)\u001b[0m\u001b[0;34m\u001b[0m\u001b[0;34m\u001b[0m\u001b[0m\n\u001b[1;32m      4\u001b[0m \u001b[0minfo_1\u001b[0m \u001b[0;34m=\u001b[0m \u001b[0mfit\u001b[0m\u001b[0;34m(\u001b[0m\u001b[0;36m50\u001b[0m\u001b[0;34m,\u001b[0m \u001b[0mmodel_1\u001b[0m\u001b[0;34m,\u001b[0m \u001b[0mcriterion\u001b[0m\u001b[0;34m,\u001b[0m \u001b[0moptimizer\u001b[0m\u001b[0;34m,\u001b[0m \u001b[0;34m*\u001b[0m\u001b[0mprepare_data\u001b[0m\u001b[0;34m(\u001b[0m\u001b[0mX\u001b[0m\u001b[0;34m,\u001b[0m\u001b[0my\u001b[0m\u001b[0;34m,\u001b[0m\u001b[0;36m128\u001b[0m\u001b[0;34m)\u001b[0m\u001b[0;34m)\u001b[0m\u001b[0;34m\u001b[0m\u001b[0;34m\u001b[0m\u001b[0m\n",
            "\u001b[0;31mNameError\u001b[0m: name 'Model_1' is not defined"
          ]
        }
      ]
    },
    {
      "cell_type": "code",
      "source": [
        "model_2 = Model_2().to(device)\n",
        "criterion = nn.MSELoss()\n",
        "optimizer = torch.optim.Adam(model_2.parameters(), lr=0.01)\n",
        "info_2 = fit(50, model_2, criterion, optimizer, *prepare_data(X,y,128))"
      ],
      "metadata": {
        "id": "bJEjd9npHhlp"
      },
      "execution_count": 373,
      "outputs": []
    },
    {
      "cell_type": "code",
      "source": [
        "model_3 = Model_3().to(device)\n",
        "criterion = nn.MSELoss()\n",
        "optimizer = torch.optim.Adam(model_3.parameters(), lr=0.01)\n",
        "info_3 = fit(50, model_3, criterion, optimizer, *prepare_data(X,y,128))"
      ],
      "metadata": {
        "id": "wTB0OrMdHhuy"
      },
      "execution_count": 374,
      "outputs": []
    },
    {
      "cell_type": "code",
      "source": [
        "model_4 = Model_4().to(device)\n",
        "criterion = nn.MSELoss()\n",
        "optimizer = torch.optim.Adam(model_4.parameters(), lr=0.01)\n",
        "info_4 = fit(50, model_4, criterion, optimizer, *prepare_data(X,y,128))"
      ],
      "metadata": {
        "id": "hOxDFxZNHh2H"
      },
      "execution_count": 375,
      "outputs": []
    },
    {
      "cell_type": "code",
      "source": [
        "# визуализация\n",
        "def plot_resuls(models):\n",
        "    for model in models.keys():\n",
        "      \n",
        "      plt.figure(figsize=(12, 7))\n",
        "      ax1 = plt.subplot(221)\n",
        "      plt.xlabel('epoch')\n",
        "      ax1.plot(models[model][0], label=f'train_loss {model}')\n",
        "      ax1.plot(models[model][2], label=f'valid_loss {model}')\n",
        "      ax1.legend()\n",
        "      \n",
        "      ax2 = plt.subplot(222)\n",
        "      plt.xlabel('epoch')\n",
        "      ax2.plot(models[model][1], label=f'train accuracy {model}')\n",
        "      ax2.plot(models[model][3], label=f'valid accuracy {model}')\n",
        "      ax2.legend()"
      ],
      "metadata": {
        "id": "fxERabyZILaU"
      },
      "execution_count": 376,
      "outputs": []
    },
    {
      "cell_type": "code",
      "source": [
        ""
      ],
      "metadata": {
        "id": "bnnNDr9SIoB0"
      },
      "execution_count": 376,
      "outputs": []
    },
    {
      "cell_type": "code",
      "source": [
        "models = {'one_layer' : info_1, 'two_layers' : info_2, 'three_layer' : info_3, 'four_layers' : info_4}\n",
        "plot_resuls(models)"
      ],
      "metadata": {
        "colab": {
          "base_uri": "https://localhost:8080/",
          "height": 933
        },
        "id": "HU0t36kUJNOd",
        "outputId": "35891161-da1b-4c74-f993-24589c4fa10b"
      },
      "execution_count": 377,
      "outputs": [
        {
          "output_type": "display_data",
          "data": {
            "text/plain": [
              "<Figure size 864x504 with 2 Axes>"
            ],
            "image/png": "[encoded data removed]"
          },
          "metadata": {
            "needs_background": "light"
          }
        },
        {
          "output_type": "display_data",
          "data": {
            "text/plain": [
              "<Figure size 864x504 with 2 Axes>"
            ],
            "image/png": "[encoded data removed]"
          },
          "metadata": {
            "needs_background": "light"
          }
        },
        {
          "output_type": "display_data",
          "data": {
            "text/plain": [
              "<Figure size 864x504 with 2 Axes>"
            ],
            "image/png": "[encoded data removed]"
          },
          "metadata": {
            "needs_background": "light"
          }
        },
        {
          "output_type": "display_data",
          "data": {
            "text/plain": [
              "<Figure size 864x504 with 2 Axes>"
            ],
            "image/png": "[encoded data removed]"
          },
          "metadata": {
            "needs_background": "light"
          }
        }
      ]
    },
    {
      "cell_type": "markdown",
      "source": [
        "## 1.4 Попробуйте различные функции активации\n",
        "\n",
        "Обучите 4 модели, используя 4 различных функции активации: sigmoid, tanh, ReLU, ELU. \n",
        "\n",
        "Постройте: 1) график loss для train и test в зависимости от используемой функции активации; 2) график accuracy для train и test в зависимости от используемой функции активации;"
      ],
      "metadata": {
        "id": "mpc9FHD7LWn1"
      }
    },
    {
      "cell_type": "code",
      "source": [
        "class Model_sigmoid(nn.Module):\n",
        "    def __init__(self):\n",
        "        super(Model_sigmoid, self).__init__()\n",
        "        self.fc1 = nn.Linear(10, 30)  \n",
        "        self.fc2 = nn.Linear(30, 40)\n",
        "        self.fc3 = nn.Linear(40, 50)\n",
        "        self.fc4 = nn.Linear(50, 1)\n",
        "\n",
        "    def forward(self, x):\n",
        "        x = F.sigmoid(self.fc1(x))\n",
        "        x = F.sigmoid(self.fc2(x))\n",
        "        x = F.sigmoid(self.fc3(x))\n",
        "        x = self.fc4(x)\n",
        "        return x"
      ],
      "metadata": {
        "id": "fhIBevWiLeeY"
      },
      "execution_count": 378,
      "outputs": []
    },
    {
      "cell_type": "code",
      "source": [
        "class Model_tanh(nn.Module):\n",
        "    def __init__(self):\n",
        "        super(Model_tanh, self).__init__()\n",
        "        self.fc1 = nn.Linear(10, 30)  \n",
        "        self.fc2 = nn.Linear(30, 40)\n",
        "        self.fc3 = nn.Linear(40, 50)\n",
        "        self.fc4 = nn.Linear(50, 1)\n",
        "\n",
        "    def forward(self, x):\n",
        "        x = F.tanh(self.fc1(x))\n",
        "        x = F.tanh(self.fc2(x))\n",
        "        x = F.tanh(self.fc3(x))\n",
        "        x = self.fc4(x)\n",
        "        return x"
      ],
      "metadata": {
        "id": "s9FHuxyhPdlw"
      },
      "execution_count": 379,
      "outputs": []
    },
    {
      "cell_type": "code",
      "source": [
        "class Model_relu(nn.Module):\n",
        "    def __init__(self):\n",
        "        super(Model_relu, self).__init__()\n",
        "        self.fc1 = nn.Linear(10, 30)  \n",
        "        self.fc2 = nn.Linear(30, 40)\n",
        "        self.fc3 = nn.Linear(40, 50)\n",
        "        self.fc4 = nn.Linear(50, 1)\n",
        "\n",
        "    def forward(self, x):\n",
        "        x = F.relu(self.fc1(x))\n",
        "        x = F.relu(self.fc2(x))\n",
        "        x = F.relu(self.fc3(x))\n",
        "        x = self.fc4(x)\n",
        "        return x"
      ],
      "metadata": {
        "id": "I3owBvcxPdoc"
      },
      "execution_count": 380,
      "outputs": []
    },
    {
      "cell_type": "code",
      "source": [
        "class Model_elu(nn.Module):\n",
        "    def __init__(self):\n",
        "        super(Model_elu, self).__init__()\n",
        "        self.fc1 = nn.Linear(10, 30)  \n",
        "        self.fc2 = nn.Linear(30, 40)\n",
        "        self.fc3 = nn.Linear(40, 50)\n",
        "        self.fc4 = nn.Linear(50, 1)\n",
        "\n",
        "    def forward(self, x):\n",
        "        x = F.elu(self.fc1(x))\n",
        "        x = F.elu(self.fc2(x))\n",
        "        x = F.elu(self.fc3(x))\n",
        "        x = self.fc4(x)\n",
        "        return x"
      ],
      "metadata": {
        "id": "Y5roQaPuPdrx"
      },
      "execution_count": 381,
      "outputs": []
    },
    {
      "cell_type": "code",
      "source": [
        "model_sigm = Model_sigmoid().to(device)\n",
        "criterion = nn.MSELoss()\n",
        "optimizer = torch.optim.Adam(model_sigm.parameters(), lr=0.01)\n",
        "info_sigmoid = fit(50, model_sigm, criterion, optimizer, *prepare_data(X,y,128))"
      ],
      "metadata": {
        "id": "qZGjgrYVPduw"
      },
      "execution_count": 382,
      "outputs": []
    },
    {
      "cell_type": "code",
      "source": [
        "model_tanh = Model_tanh().to(device)\n",
        "criterion = nn.MSELoss()\n",
        "optimizer = torch.optim.Adam(model_tanh.parameters(), lr=0.01)\n",
        "info_tanh = fit(50, model_tanh, criterion, optimizer, *prepare_data(X,y,128))"
      ],
      "metadata": {
        "id": "vA15AU4QPdyW"
      },
      "execution_count": 383,
      "outputs": []
    },
    {
      "cell_type": "code",
      "source": [
        "model_relu = Model_relu().to(device)\n",
        "criterion = nn.MSELoss()\n",
        "optimizer = torch.optim.Adam(model_relu.parameters(), lr=0.01)\n",
        "info_relu = fit(50, model_relu, criterion, optimizer, *prepare_data(X,y,128))"
      ],
      "metadata": {
        "id": "9dNLKikoPd1D"
      },
      "execution_count": 384,
      "outputs": []
    },
    {
      "cell_type": "code",
      "source": [
        "model_elu = Model_elu().to(device)\n",
        "criterion = nn.MSELoss()\n",
        "optimizer = torch.optim.Adam(model_elu.parameters(), lr=0.01)\n",
        "info_elu = fit(50, model_elu, criterion, optimizer, *prepare_data(X,y,128))"
      ],
      "metadata": {
        "id": "Ikfe0Je1Pd3u"
      },
      "execution_count": 385,
      "outputs": []
    },
    {
      "cell_type": "code",
      "source": [
        ""
      ],
      "metadata": {
        "id": "1odwfO7oQeYf"
      },
      "execution_count": 385,
      "outputs": []
    },
    {
      "cell_type": "code",
      "source": [
        "models = {'sigmoid' : info_sigmoid, 'tanh' : info_tanh, 'relu' : info_relu, 'elu' : info_elu}\n",
        "plot_resuls(models)"
      ],
      "metadata": {
        "colab": {
          "base_uri": "https://localhost:8080/",
          "height": 933
        },
        "id": "EcxhjRPJQnBm",
        "outputId": "cfc00ea5-b49b-4353-b56e-84b8b2fa0fe6"
      },
      "execution_count": 386,
      "outputs": [
        {
          "output_type": "display_data",
          "data": {
            "text/plain": [
              "<Figure size 864x504 with 2 Axes>"
            ],
            "image/png": "[encoded data removed]"
          },
          "metadata": {
            "needs_background": "light"
          }
        },
        {
          "output_type": "display_data",
          "data": {
            "text/plain": [
              "<Figure size 864x504 with 2 Axes>"
            ],
            "image/png": "[encoded data removed]"
          },
          "metadata": {
            "needs_background": "light"
          }
        },
        {
          "output_type": "display_data",
          "data": {
            "text/plain": [
              "<Figure size 864x504 with 2 Axes>"
            ],
            "image/png": "[encoded data removed]"
          },
          "metadata": {
            "needs_background": "light"
          }
        },
        {
          "output_type": "display_data",
          "data": {
            "text/plain": [
              "<Figure size 864x504 with 2 Axes>"
            ],
            "image/png": "[encoded data removed]"
          },
          "metadata": {
            "needs_background": "light"
          }
        }
      ]
    },
    {
      "cell_type": "markdown",
      "source": [
        "## 1.5 Попробуйте различные алгоритмы оптимизации\n",
        "\n",
        "Обучите 4 модели, используя 4 различных алгоритма оптимизации: SGD, SGD with momentum, RMSprop, Adam\n",
        "\n",
        "Постройте: 1) график loss для train и test в зависимости от используемого  алгоритма оптимизации; 2) график accuracy для train и test в зависимости от используемого  алгоритма оптимизации."
      ],
      "metadata": {
        "id": "DzgKq1-qLghm"
      }
    },
    {
      "cell_type": "code",
      "source": [
        "model_relu = Model_relu().to(device)\n",
        "criterion = nn.MSELoss()\n",
        "optimizer = torch.optim.Adam(model_relu.parameters(), lr=0.01)\n",
        "info_adam = fit(50, model_relu, criterion, optimizer, *prepare_data(X,y,128))"
      ],
      "metadata": {
        "id": "hLwYrg7NLgIZ"
      },
      "execution_count": 387,
      "outputs": []
    },
    {
      "cell_type": "code",
      "source": [
        "model_relu = Model_relu().to(device)\n",
        "criterion = nn.MSELoss()\n",
        "optimizer = torch.optim.SGD(model_relu.parameters(), lr=0.01)\n",
        "info_sgd = fit(50, model_relu, criterion, optimizer, *prepare_data(X,y,128))"
      ],
      "metadata": {
        "id": "cQ7cOotQRDGD"
      },
      "execution_count": 388,
      "outputs": []
    },
    {
      "cell_type": "code",
      "source": [
        "model_relu = Model_relu().to(device)\n",
        "criterion = nn.MSELoss()\n",
        "optimizer = torch.optim.SGD(model_relu.parameters(), lr=0.01, momentum = 0.5)\n",
        "info_sgd_momentum = fit(50, model_relu, criterion, optimizer, *prepare_data(X,y,128))"
      ],
      "metadata": {
        "id": "E6rtCwUQRDI1"
      },
      "execution_count": 389,
      "outputs": []
    },
    {
      "cell_type": "code",
      "source": [
        "model_relu = Model_relu().to(device)\n",
        "criterion = nn.MSELoss()\n",
        "optimizer = torch.optim.RMSprop(model_relu.parameters(), lr=0.01)\n",
        "info_RMSprop = fit(50, model_relu, criterion, optimizer, *prepare_data(X,y,128))"
      ],
      "metadata": {
        "id": "AKcW8bZmRDL3"
      },
      "execution_count": 390,
      "outputs": []
    },
    {
      "cell_type": "code",
      "source": [
        ""
      ],
      "metadata": {
        "id": "vVR1zuntRDZk"
      },
      "execution_count": 390,
      "outputs": []
    },
    {
      "cell_type": "code",
      "source": [
        "models = {'SGD' : info_sgd, 'SGD with momentum' : info_sgd_momentum, 'Adam' : info_adam, 'RMSpros' : info_RMSprop}\n",
        "plot_resuls(models)"
      ],
      "metadata": {
        "colab": {
          "base_uri": "https://localhost:8080/",
          "height": 911
        },
        "id": "1IOl0tzzRt-4",
        "outputId": "7718ce50-d050-485e-b161-cc1fa876ea5d"
      },
      "execution_count": 391,
      "outputs": [
        {
          "output_type": "display_data",
          "data": {
            "text/plain": [
              "<Figure size 864x504 with 2 Axes>"
            ],
            "image/png": "[encoded data removed]"
          },
          "metadata": {
            "needs_background": "light"
          }
        },
        {
          "output_type": "display_data",
          "data": {
            "text/plain": [
              "<Figure size 864x504 with 2 Axes>"
            ],
            "image/png": "[encoded data removed]"
          },
          "metadata": {
            "needs_background": "light"
          }
        },
        {
          "output_type": "display_data",
          "data": {
            "text/plain": [
              "<Figure size 864x504 with 2 Axes>"
            ],
            "image/png": "[encoded data removed]"
          },
          "metadata": {
            "needs_background": "light"
          }
        },
        {
          "output_type": "display_data",
          "data": {
            "text/plain": [
              "<Figure size 864x504 with 2 Axes>"
            ],
            "image/png": "[encoded data removed]"
          },
          "metadata": {
            "needs_background": "light"
          }
        }
      ]
    },
    {
      "cell_type": "markdown",
      "source": [
        "## 1.6 Попробуйте добавить dropout и batch norm\n",
        "\n",
        "Обучите 5 моделей, используя 5 различных конфигураций: только BatchNorm, только dropout 0.2, только dropout 0.5, BatchNorm + dropout 0.2, BatchNorm + dropout 0.5.\n",
        "\n",
        "Постройте: 1) график loss для train и test в зависимости от используемой конфигурации; 2) график accuracy для train и test в зависимости от используемой конфигурации."
      ],
      "metadata": {
        "id": "3QXFzDbOLZ7w"
      }
    },
    {
      "cell_type": "code",
      "source": [
        "class Model_dropout_02(nn.Module):\n",
        "    def __init__(self):\n",
        "        super(Model_dropout_02, self).__init__()\n",
        "        self.fc1 = nn.Linear(10, 30)\n",
        "        self.dropout1 = nn.Dropout(p=0.2)\n",
        "        self.fc2 = nn.Linear(30, 40)\n",
        "        self.dropout2 = nn.Dropout(p=0.2)\n",
        "        self.fc3 = nn.Linear(40, 50)\n",
        "        self.dropout3 = nn.Dropout(p=0.2)\n",
        "        self.fc4 = nn.Linear(50, 1)\n",
        "\n",
        "    def forward(self, x):\n",
        "        x = self.dropout1(F.relu(self.fc1(x)))\n",
        "        x = self.dropout2(F.relu(self.fc2(x)))\n",
        "        x = self.dropout3(F.relu(self.fc3(x)))\n",
        "        x = self.fc4(x)\n",
        "        return x"
      ],
      "metadata": {
        "id": "aUKil2VRLeIv"
      },
      "execution_count": 392,
      "outputs": []
    },
    {
      "cell_type": "code",
      "source": [
        "class Model_batch(nn.Module):\n",
        "    def __init__(self):\n",
        "        super(Model_batch, self).__init__()\n",
        "        self.fc1 = nn.Linear(10, 30)\n",
        "        self.bn1 = nn.BatchNorm1d(30)\n",
        "        self.fc2 = nn.Linear(30, 40)\n",
        "        self.bn2 = nn.BatchNorm1d(40)\n",
        "        self.fc3 = nn.Linear(40, 50)\n",
        "        self.bn3 = nn.BatchNorm1d(50)\n",
        "        self.fc4 = nn.Linear(50, 1)\n",
        "\n",
        "    def forward(self, x):\n",
        "        x = self.bn1(F.relu(self.fc1(x)))\n",
        "        x = self.bn2(F.relu(self.fc2(x)))\n",
        "        x = self.bn3(F.relu(self.fc3(x)))\n",
        "        x = self.fc4(x)\n",
        "        return x"
      ],
      "metadata": {
        "id": "zVo3h9xEabrn"
      },
      "execution_count": 393,
      "outputs": []
    },
    {
      "cell_type": "code",
      "source": [
        "class Model_dropout_05(nn.Module):\n",
        "    def __init__(self):\n",
        "        super(Model_dropout_05, self).__init__()\n",
        "        self.fc1 = nn.Linear(10, 30)\n",
        "        self.dropout1 = nn.Dropout(p=0.5)\n",
        "        self.fc2 = nn.Linear(30, 40)\n",
        "        self.dropout2 = nn.Dropout(p=0.5)\n",
        "        self.fc3 = nn.Linear(40, 50)\n",
        "        self.dropout3 = nn.Dropout(p=0.5)\n",
        "        self.fc4 = nn.Linear(50, 1)\n",
        "\n",
        "    def forward(self, x):\n",
        "        x = self.dropout1(F.relu(self.fc1(x)))\n",
        "        x = self.dropout2(F.relu(self.fc2(x)))\n",
        "        x = self.dropout3(F.relu(self.fc3(x)))\n",
        "        x = self.fc4(x)\n",
        "        return x"
      ],
      "metadata": {
        "id": "cPr7IzbKabxs"
      },
      "execution_count": 394,
      "outputs": []
    },
    {
      "cell_type": "code",
      "source": [
        "class Model_batch_dropout_05(nn.Module):\n",
        "    def __init__(self):\n",
        "        super(Model_batch_dropout_05, self).__init__()\n",
        "        self.fc1 = nn.Linear(10, 30)\n",
        "        self.bn1 = nn.BatchNorm1d(30)\n",
        "        self.dropout1 = nn.Dropout(p=0.5)\n",
        "        self.fc2 = nn.Linear(30, 40)\n",
        "        self.bn2 = nn.BatchNorm1d(40)\n",
        "        self.dropout2 = nn.Dropout(p=0.5)\n",
        "        self.fc3 = nn.Linear(40, 50)\n",
        "        self.bn3 = nn.BatchNorm1d(50)\n",
        "        self.dropout3 = nn.Dropout(p=0.5)\n",
        "        self.fc4 = nn.Linear(50, 1)\n",
        "\n",
        "    def forward(self, x):\n",
        "        x = self.dropout1(self.bn1(F.relu(self.fc1(x))))\n",
        "        x = self.dropout2(self.bn2(F.relu(self.fc2(x))))\n",
        "        x = self.dropout3(self.bn3(F.relu(self.fc3(x))))\n",
        "        x = self.fc4(x)\n",
        "        return x"
      ],
      "metadata": {
        "id": "qMr7PjHTab4B"
      },
      "execution_count": 395,
      "outputs": []
    },
    {
      "cell_type": "code",
      "source": [
        "class Model_batch_dropout_02(nn.Module):\n",
        "    def __init__(self):\n",
        "        super(Model_batch_dropout_02, self).__init__()\n",
        "        self.fc1 = nn.Linear(10, 30)\n",
        "        self.bn1 = nn.BatchNorm1d(30)\n",
        "        self.dropout1 = nn.Dropout(p=0.2)\n",
        "        self.fc2 = nn.Linear(30, 40)\n",
        "        self.bn2 = nn.BatchNorm1d(40)\n",
        "        self.dropout2 = nn.Dropout(p=0.2)\n",
        "        self.fc3 = nn.Linear(40, 50)\n",
        "        self.bn3 = nn.BatchNorm1d(50)\n",
        "        self.dropout3 = nn.Dropout(p=0.2)\n",
        "        self.fc4 = nn.Linear(50, 1)\n",
        "\n",
        "    def forward(self, x):\n",
        "        x = self.dropout1(self.bn1(F.relu(self.fc1(x))))\n",
        "        x = self.dropout2(self.bn2(F.relu(self.fc2(x))))\n",
        "        x = self.dropout3(self.bn3(F.relu(self.fc3(x))))\n",
        "        x = self.fc4(x)\n",
        "        return x"
      ],
      "metadata": {
        "id": "ShN_5G8dbRaR"
      },
      "execution_count": 396,
      "outputs": []
    },
    {
      "cell_type": "code",
      "source": [
        "model_dropout_02 = Model_dropout_02().to(device)\n",
        "criterion = nn.MSELoss()\n",
        "optimizer = torch.optim.Adam(model_dropout_02.parameters(), lr=0.01)\n",
        "info_dropout_02 = fit(50, model_dropout_02, criterion, optimizer, *prepare_data(X,y,128))"
      ],
      "metadata": {
        "id": "l8LaWy8DbVs3"
      },
      "execution_count": 397,
      "outputs": []
    },
    {
      "cell_type": "code",
      "source": [
        "model_dropout_05 = Model_dropout_05().to(device)\n",
        "criterion = nn.MSELoss()\n",
        "optimizer = torch.optim.Adam(model_dropout_05.parameters(), lr=0.01)\n",
        "info_dropout_05 = fit(50, model_dropout_05, criterion, optimizer, *prepare_data(X,y,128))"
      ],
      "metadata": {
        "id": "HwnMhdYjbVvw"
      },
      "execution_count": 398,
      "outputs": []
    },
    {
      "cell_type": "code",
      "source": [
        "model_batch = Model_batch().to(device)\n",
        "criterion = nn.MSELoss()\n",
        "optimizer = torch.optim.Adam(model_batch.parameters(), lr=0.01)\n",
        "info_batch = fit(50, model_batch, criterion, optimizer, *prepare_data(X,y,128))"
      ],
      "metadata": {
        "id": "4WnPup6hbVyQ"
      },
      "execution_count": 399,
      "outputs": []
    },
    {
      "cell_type": "code",
      "source": [
        "model_batch_dropout_05 = Model_batch_dropout_05().to(device)\n",
        "criterion = nn.MSELoss()\n",
        "optimizer = torch.optim.Adam(model_batch_dropout_05.parameters(), lr=0.01)\n",
        "info_batch_dropout_05 = fit(50, model_batch_dropout_05, criterion, optimizer, *prepare_data(X,y,128))"
      ],
      "metadata": {
        "id": "QICEYBX8bV1B"
      },
      "execution_count": 400,
      "outputs": []
    },
    {
      "cell_type": "code",
      "source": [
        "model_batch_dropout_02 = Model_batch_dropout_02().to(device)\n",
        "criterion = nn.L1Loss()\n",
        "optimizer = torch.optim.Adam(model_batch_dropout_02.parameters(), lr=0.01)\n",
        "info_batch_dropout_02 = fit(50, model_batch_dropout_02, criterion, optimizer, *prepare_data(X,y,128))"
      ],
      "metadata": {
        "id": "vkc0jynpbV3s"
      },
      "execution_count": 409,
      "outputs": []
    },
    {
      "cell_type": "code",
      "source": [
        "models = {'batch' : info_batch, 'dropout_02' : info_dropout_02, 'dropout_05' : info_dropout_05, 'batch_dropout_02' : info_batch_dropout_02, 'batch_dropout_05' : info_batch_dropout_05}\n",
        "plot_resuls(models)"
      ],
      "metadata": {
        "colab": {
          "base_uri": "https://localhost:8080/",
          "height": 1000
        },
        "id": "wR-5wJn-bV55",
        "outputId": "7a911636-9d7c-4303-cf6a-24d844018cc3"
      },
      "execution_count": 402,
      "outputs": [
        {
          "output_type": "display_data",
          "data": {
            "text/plain": [
              "<Figure size 864x504 with 2 Axes>"
            ],
            "image/png": "[encoded data removed]"
          },
          "metadata": {
            "needs_background": "light"
          }
        },
        {
          "output_type": "display_data",
          "data": {
            "text/plain": [
              "<Figure size 864x504 with 2 Axes>"
            ],
            "image/png": "[encoded data removed]"
          },
          "metadata": {
            "needs_background": "light"
          }
        },
        {
          "output_type": "display_data",
          "data": {
            "text/plain": [
              "<Figure size 864x504 with 2 Axes>"
            ],
            "image/png": "[encoded data removed]"
          },
          "metadata": {
            "needs_background": "light"
          }
        },
        {
          "output_type": "display_data",
          "data": {
            "text/plain": [
              "<Figure size 864x504 with 2 Axes>"
            ],
            "image/png": "[encoded data removed]"
          },
          "metadata": {
            "needs_background": "light"
          }
        },
        {
          "output_type": "display_data",
          "data": {
            "text/plain": [
              "<Figure size 864x504 with 2 Axes>"
            ],
            "image/png": "[encoded data removed]"
          },
          "metadata": {
            "needs_background": "light"
          }
        }
      ]
    },
    {
      "cell_type": "code",
      "source": [
        ""
      ],
      "metadata": {
        "id": "1ordhGLPbV8G"
      },
      "execution_count": 402,
      "outputs": []
    },
    {
      "cell_type": "markdown",
      "source": [
        "## 1.7 Постройте финальную модель\n",
        "\n",
        "Используя информацию, полученную на предыдущих этапах, предложите оптимальную конфигурацию нейронной сети для вашей задачи. Обучите модель."
      ],
      "metadata": {
        "id": "SY7zNAyiOFOM"
      }
    },
    {
      "cell_type": "code",
      "source": [
        ""
      ],
      "metadata": {
        "id": "UT_e4iH5OEu9"
      },
      "execution_count": null,
      "outputs": []
    },
    {
      "cell_type": "markdown",
      "source": [
        "## 1.8 Выводы\n",
        "\n",
        "*Прекрасная жизнь начинается с ваших прекрасных мыслей:*"
      ],
      "metadata": {
        "id": "9ZNIdPjgOzjW"
      }
    },
    {
      "cell_type": "markdown",
      "source": [
        "# 2. Искусственная неронная сеть для решения задачи классификации (9 баллов)"
      ],
      "metadata": {
        "id": "Jy4QgfopJBzd"
      }
    },
    {
      "cell_type": "code",
      "source": [
        "import re\n",
        "import nltk\n",
        "from nltk.corpus import stopwords\n",
        "from nltk.tokenize import wordpunct_tokenize\n",
        "from nltk.stem import WordNetLemmatizer\n",
        "from sklearn.feature_extraction.text import TfidfVectorizer\n",
        "from collections import Counter \n",
        "from functools import partial\n",
        "from tqdm import tqdm, tqdm_notebook\n",
        "tqdm.pandas()"
      ],
      "metadata": {
        "id": "xXabJTnaIyGq"
      },
      "execution_count": 7,
      "outputs": []
    },
    {
      "cell_type": "code",
      "source": [
        "import nltk\n",
        "nltk.download('stopwords')\n",
        "nltk.download('wordnet')"
      ],
      "metadata": {
        "colab": {
          "base_uri": "https://localhost:8080/"
        },
        "id": "viQdJNonnubl",
        "outputId": "c7e005e8-5e54-4796-998e-741cdab29be5"
      },
      "execution_count": 8,
      "outputs": [
        {
          "output_type": "stream",
          "name": "stdout",
          "text": [
            "[nltk_data] Downloading package stopwords to /root/nltk_data...\n",
            "[nltk_data]   Package stopwords is already up-to-date!\n",
            "[nltk_data] Downloading package wordnet to /root/nltk_data...\n",
            "[nltk_data]   Package wordnet is already up-to-date!\n"
          ]
        },
        {
          "output_type": "execute_result",
          "data": {
            "text/plain": [
              "True"
            ]
          },
          "metadata": {},
          "execution_count": 8
        }
      ]
    },
    {
      "cell_type": "markdown",
      "source": [
        "## 2.1 Загрузите данные, поделить на train и test\n",
        "\n"
      ],
      "metadata": {
        "id": "To15w7xbTc2M"
      }
    },
    {
      "cell_type": "code",
      "source": [
        "df_classification = pd.read_csv('train.csv')"
      ],
      "metadata": {
        "id": "5EEi0iUFTc2M"
      },
      "execution_count": 9,
      "outputs": []
    },
    {
      "cell_type": "code",
      "source": [
        "df_classification = df_classification[['comment_text', 'toxic']]"
      ],
      "metadata": {
        "id": "hCdIridcIoaH"
      },
      "execution_count": 10,
      "outputs": []
    },
    {
      "cell_type": "code",
      "source": [
        "# почистим исходные текста сообщений\n",
        "def simple_clear(text):\n",
        "    text = text.lower()\n",
        "    text = re.sub(\"[^a-zA-Z]\", ' ', text)\n",
        "    text = re.sub('<.*?>','',text)\n",
        "    text = re.sub(r\"https?:\\/\\/t.co\\/[A-Za-z0-9]+\", \"\", text)\n",
        "    text = re.sub('\\[|\\(.*\\]|\\)','', text) \n",
        "    text = re.sub(\"(\\\\W)\",\" \",text) \n",
        "    text = re.sub('\\S*\\d\\S*\\s*','', text)  \n",
        "    text = text.split()\n",
        "    text = ' '.join(text)\n",
        "    return text"
      ],
      "metadata": {
        "id": "xYVa4dFrIodP"
      },
      "execution_count": 11,
      "outputs": []
    },
    {
      "cell_type": "code",
      "source": [
        "df_classification['comment_text'] = df_classification['comment_text'].apply(simple_clear)\n"
      ],
      "metadata": {
        "id": "oFFNTCR6Iog5"
      },
      "execution_count": 12,
      "outputs": []
    },
    {
      "cell_type": "code",
      "source": [
        "def remove_rare_words(tokens, common_tokens, max_len):\n",
        "    return [token if token in common_tokens else '<UNK>' for token in tokens][-max_len:]\n",
        "\n",
        "def replace_numbers(tokens):\n",
        "    return [re.sub(r'[0-9]+', '<NUM>', token) for token in tokens]\n",
        "\n",
        "def tokenize(text, stop_words, lemmatizer):\n",
        "    text = re.sub(r'[^\\w\\s]', '', text) # remove special characters\n",
        "    text = text.lower() # lowercase\n",
        "    \n",
        "    tokens = wordpunct_tokenize(text) # tokenize\n",
        "    tokens = [lemmatizer.lemmatize(token) for token in tokens] # noun lemmatizer\n",
        "    tokens = [lemmatizer.lemmatize(token, \"v\") for token in tokens] # verb lemmatizer\n",
        "    tokens = [token for token in tokens if token not in stop_words] # remove stopwords\n",
        "    return tokens\n",
        "\n",
        "def build_bow_vector(sequence, idx2token):\n",
        "    vector = [0] * len(idx2token)\n",
        "    for token_idx in sequence:\n",
        "        if token_idx not in idx2token:\n",
        "            raise ValueError('Wrong sequence index found!')\n",
        "        else:\n",
        "            vector[token_idx] += 1\n",
        "    return vector"
      ],
      "metadata": {
        "id": "vsx4NthwlFic"
      },
      "execution_count": 13,
      "outputs": []
    },
    {
      "cell_type": "code",
      "source": [
        "# Set parameters\n",
        "\n",
        "MAX_LEN = 512 #@param [64, 256, 512, 1024] {allow-input: true}\n",
        "MAX_VOCAB = 100000 #@param [1000, 5000, 10000, 100000] {allow-input: true}"
      ],
      "metadata": {
        "id": "74azndsd-gXp"
      },
      "execution_count": 46,
      "outputs": []
    },
    {
      "cell_type": "code",
      "source": [
        "class ImdbDataset(Dataset):\n",
        "    def __init__(self, df, max_vocab=5000, max_len=128):\n",
        "        df = df\n",
        "        \n",
        "        # Clean and tokenize\n",
        "        stop_words = set(stopwords.words('english'))\n",
        "        lemmatizer = WordNetLemmatizer()\n",
        "        df['tokens'] = df.comment_text.apply(\n",
        "            partial(\n",
        "                tokenize,\n",
        "                stop_words=stop_words,\n",
        "                lemmatizer=lemmatizer,\n",
        "            ),\n",
        "        )  \n",
        "        \n",
        "        all_tokens = [token for doc in list(df.tokens) for token in doc]\n",
        "        \n",
        "        # Build most common tokens bound by max vocab size\n",
        "        common_tokens = set( \n",
        "            list(\n",
        "                zip(*Counter(all_tokens).most_common(max_vocab))\n",
        "            )[0] \n",
        "        )\n",
        "        \n",
        "       \n",
        "        \n",
        "        # Build vocab\n",
        "        vocab = sorted(set(\n",
        "            token for doc in list(df.tokens) for token in doc\n",
        "        ))\n",
        "        self.token2idx = {token: idx for idx, token in enumerate(vocab)}\n",
        "        self.idx2token = {idx: token for token, idx in self.token2idx.items()}\n",
        "        \n",
        "        # Convert tokens to indexes\n",
        "        df['indexed_tokens'] = df.tokens.progress_apply(\n",
        "            lambda doc: [self.token2idx[token] for token in doc],\n",
        "        )\n",
        "        \n",
        "        # Build BoW vector\n",
        "        df['bow_vector'] = df.indexed_tokens.progress_apply(\n",
        "            build_bow_vector, args=(self.idx2token,)\n",
        "        )\n",
        "        \n",
        "        # Build TF-IDF vector\n",
        "        vectorizer = TfidfVectorizer(\n",
        "            analyzer='word',\n",
        "            tokenizer=lambda doc: doc,\n",
        "            preprocessor=lambda doc: doc,\n",
        "            token_pattern=None,\n",
        "        )\n",
        "        vectors = vectorizer.fit_transform(df.tokens).toarray()\n",
        "        df['tfidf_vector'] = [vector.tolist() for vector in vectors]\n",
        "        \n",
        "        self.text = df.comment_text.tolist()\n",
        "        self.sequences = df.indexed_tokens.tolist()\n",
        "        self.bow_vector = df.bow_vector.tolist()\n",
        "        self.tfidf_vector = df.tfidf_vector.tolist()\n",
        "        self.targets = df.toxic.tolist()\n",
        "    \n",
        "    def __getitem__(self, i):\n",
        "        return (\n",
        "            self.sequences[i],\n",
        "            self.bow_vector[i],\n",
        "            self.tfidf_vector[i],\n",
        "            self.targets[i],\n",
        "            self.text[i],\n",
        "        )\n",
        "    \n",
        "    def __len__(self):\n",
        "        return len(self.targets)"
      ],
      "metadata": {
        "id": "z2XupYXY-yjo"
      },
      "execution_count": 50,
      "outputs": []
    },
    {
      "cell_type": "code",
      "source": [
        "dataset = ImdbDataset(df_classification, max_vocab=MAX_VOCAB, max_len=MAX_LEN)"
      ],
      "metadata": {
        "colab": {
          "base_uri": "https://localhost:8080/"
        },
        "id": "FKMoU9WT-2ar",
        "outputId": "37b04130-eac9-47c6-f94a-a20e9d0687f2"
      },
      "execution_count": null,
      "outputs": [
        {
          "output_type": "stream",
          "name": "stderr",
          "text": [
            "100%|██████████| 159571/159571 [00:02<00:00, 69371.30it/s]\n",
            "  5%|▌         | 8254/159571 [00:22<04:35, 549.20it/s]"
          ]
        }
      ]
    },
    {
      "cell_type": "code",
      "source": [
        "print('Number of records:', len(dataset), '\\n')\n",
        "\n",
        "import random\n",
        "random_idx = random.randint(0,len(dataset)-1)\n",
        "print('index:', random_idx, '\\n')\n",
        "sample_seq, bow_vector, tfidf_vector, sample_target, sample_text = dataset[random_idx]\n",
        "print(sample_text, '\\n')\n",
        "print(sample_seq, '\\n')\n",
        "print('BoW vector size:', len(bow_vector), '\\n')\n",
        "print('TF-IDF vector size:', len(tfidf_vector), '\\n')\n",
        "print('Sentiment:', sample_target, '\\n')"
      ],
      "metadata": {
        "colab": {
          "base_uri": "https://localhost:8080/"
        },
        "id": "-Zp0LOwH_uPm",
        "outputId": "4d3e146e-0abc-466f-dc45-fd542231a3ea"
      },
      "execution_count": 49,
      "outputs": [
        {
          "output_type": "stream",
          "name": "stdout",
          "text": [
            "Number of records: 159553 \n",
            "\n",
            "index: 140713 \n",
            "\n",
            "dude why pick a fight with me now you re obviously aware as you ve already commented on the mhp talk page what s going to happen to my editing privileges \n",
            "\n",
            "[0, 14, 0, 3, 0, 16, 6, 0, 0, 11, 0, 2, 8, 0, 0, 0, 4, 0, 5, 6, 0, 0, 16, 0, 0, 6, 0, 0, 3, 0, 10, 0, 16, 0, 0, 0, 14, 0, 13, 3, 0, 0, 1, 15, 0, 0, 14, 0, 9, 0, 0, 0, 16, 0, 13, 3, 0, 0, 0, 0, 0, 0, 14, 0, 15, 3, 0, 0, 9, 13, 3, 0, 0, 0, 0, 2, 0, 0, 0, 3, 10, 0, 3, 0, 0, 0, 10, 0, 0, 6, 3, 0, 0, 6, 11, 0, 0, 0, 9, 8, 0, 11, 0, 5, 3, 0, 16, 6, 0, 0, 0, 0, 0, 5, 0, 0, 10, 5, 0, 0, 0, 0, 6, 0, 11, 11, 3, 10, 0, 0, 0, 0, 0, 0, 0, 3, 0, 0, 0, 0, 10, 5, 0, 11, 13, 0, 15, 0, 9, 3, 5, 3, 0] \n",
            "\n",
            "BoW vector size: 19 \n",
            "\n",
            "TF-IDF vector size: 19 \n",
            "\n",
            "Sentiment: 0 \n",
            "\n"
          ]
        }
      ]
    },
    {
      "cell_type": "code",
      "source": [
        "def split_train_valid_test(corpus, valid_ratio=0.1, test_ratio=0.1):\n",
        "    \"\"\"Split dataset into train, validation, and test.\"\"\"\n",
        "    test_length = int(len(corpus) * test_ratio)\n",
        "    valid_length = int(len(corpus) * valid_ratio)\n",
        "    train_length = len(corpus) - valid_length - test_length\n",
        "    return random_split(\n",
        "        corpus, lengths=[train_length, valid_length, test_length],\n",
        "    )"
      ],
      "metadata": {
        "id": "sA3zLVf9AF-U"
      },
      "execution_count": 25,
      "outputs": []
    },
    {
      "cell_type": "code",
      "source": [
        "train_dataset, valid_dataset, test_dataset = split_train_valid_test(\n",
        "    dataset, valid_ratio=0.15, test_ratio=0.05)\n",
        "len(train_dataset), len(valid_dataset), len(test_dataset)"
      ],
      "metadata": {
        "colab": {
          "base_uri": "https://localhost:8080/"
        },
        "id": "uFvHVerZAGBr",
        "outputId": "85a6a78f-f8c9-4968-8605-0bd77038c353"
      },
      "execution_count": 26,
      "outputs": [
        {
          "output_type": "execute_result",
          "data": {
            "text/plain": [
              "(127644, 23932, 7977)"
            ]
          },
          "metadata": {},
          "execution_count": 26
        }
      ]
    },
    {
      "cell_type": "code",
      "source": [
        "BATCH_SIZE = 528\n",
        "\n",
        "def collate(batch):\n",
        "    seq = [item[0] for item in batch]\n",
        "    bow = [item[1] for item in batch]\n",
        "    tfidf = [item[2] for item in batch]\n",
        "    target = torch.LongTensor([item[3] for item in batch])\n",
        "    text = [item[4] for item in batch]\n",
        "    return seq, bow, tfidf, target, text\n",
        "\n",
        "train_loader = DataLoader(train_dataset, batch_size=BATCH_SIZE, collate_fn=collate)\n",
        "valid_loader = DataLoader(valid_dataset, batch_size=BATCH_SIZE, collate_fn=collate)\n",
        "test_loader = DataLoader(test_dataset, batch_size=BATCH_SIZE, collate_fn=collate)"
      ],
      "metadata": {
        "id": "xgCbjPq7AGGT"
      },
      "execution_count": 27,
      "outputs": []
    },
    {
      "cell_type": "code",
      "source": [
        "class FeedfowardTextClassifier(nn.Module):\n",
        "    def __init__(self, device, vocab_size, hidden1, hidden2, num_labels, batch_size):\n",
        "        super(FeedfowardTextClassifier, self).__init__()\n",
        "        self.device = device\n",
        "        self.batch_size = batch_size\n",
        "        self.fc1 = nn.Linear(vocab_size, hidden1)\n",
        "        self.fc2 = nn.Linear(hidden1, hidden2)\n",
        "        self.fc3 = nn.Linear(hidden2, num_labels)\n",
        "    \n",
        "    def forward(self, x):\n",
        "        batch_size = len(x)\n",
        "        if batch_size != self.batch_size:\n",
        "            self.batch_size = batch_size\n",
        "        x = torch.FloatTensor(x)\n",
        "        x = F.relu(self.fc1(x))\n",
        "        x = F.relu(self.fc2(x))\n",
        "        return torch.sigmoid(self.fc3(x))\n"
      ],
      "metadata": {
        "id": "xFYIrsAwAGK1"
      },
      "execution_count": 29,
      "outputs": []
    },
    {
      "cell_type": "code",
      "source": [
        "# Define hidden layer size\n",
        "HIDDEN1 = 100 #@param [10, 30, 50, 100, 200, 500] {allow-input: true}\n",
        "HIDDEN2 = 50 #@param [10, 30, 50, 100, 200, 500] {allow-input: true}"
      ],
      "metadata": {
        "id": "T1Jah6yBAGNM"
      },
      "execution_count": 30,
      "outputs": []
    },
    {
      "cell_type": "code",
      "source": [
        "bow_model = FeedfowardTextClassifier(\n",
        "    vocab_size=len(dataset.token2idx),\n",
        "    hidden1=HIDDEN1,\n",
        "    hidden2=HIDDEN2,\n",
        "    num_labels=2,\n",
        "    device=device,\n",
        "    batch_size=BATCH_SIZE,\n",
        ")\n",
        "bow_model"
      ],
      "metadata": {
        "colab": {
          "base_uri": "https://localhost:8080/"
        },
        "id": "aohN8YsiAGPh",
        "outputId": "00608f15-6ce8-40d0-b6bc-e6902ac6632c"
      },
      "execution_count": 34,
      "outputs": [
        {
          "output_type": "execute_result",
          "data": {
            "text/plain": [
              "FeedfowardTextClassifier(\n",
              "  (fc1): Linear(in_features=19, out_features=100, bias=True)\n",
              "  (fc2): Linear(in_features=100, out_features=50, bias=True)\n",
              "  (fc3): Linear(in_features=50, out_features=2, bias=True)\n",
              ")"
            ]
          },
          "metadata": {},
          "execution_count": 34
        }
      ]
    },
    {
      "cell_type": "code",
      "source": [
        "criterion = nn.CrossEntropyLoss()\n",
        "optimizer = torch.optim.Adam(\n",
        "    filter(lambda p: p.requires_grad, bow_model.parameters()),\n",
        "    lr=0.001,\n",
        ")\n",
        "# scheduler = CosineAnnealingLR(optimizer, 1)"
      ],
      "metadata": {
        "id": "kPBSCrB2AGSi"
      },
      "execution_count": 37,
      "outputs": []
    },
    {
      "cell_type": "code",
      "source": [
        "def train_epoch(model, optimizer, train_loader, input_type='bow'):\n",
        "    model.train()\n",
        "    total_loss, total = 0, 0\n",
        "    correct = 0\n",
        "    num = 0\n",
        "    for seq, bow, tfidf, target, text in train_loader:\n",
        "        if input_type == 'bow':\n",
        "            inputs = bow\n",
        "        if input_type == 'tfidf':\n",
        "            inputs = tfidf\n",
        "        \n",
        "        # Reset gradient\n",
        "        optimizer.zero_grad()\n",
        "        \n",
        "        # Forward pass\n",
        "        output = model(inputs)\n",
        "        \n",
        "        # Compute loss\n",
        "        loss = criterion(output, target)\n",
        "        \n",
        "        # Perform gradient descent, backwards pass\n",
        "        loss.backward()\n",
        "\n",
        "        # Take a step in the right direction\n",
        "        optimizer.step()\n",
        "        # scheduler.step()\n",
        "\n",
        "        # Record metrics\n",
        "        total_loss += loss.item()\n",
        "        total += len(target)\n",
        "        _, preds = torch.max(output, axis=-1)\n",
        "\n",
        "        correct += (preds == target).sum().item()\n",
        "        num += len(inputs)\n",
        "\n",
        "\n",
        "    return correct / num, total_loss / total\n",
        "\n",
        "\n",
        "def validate_epoch(model, valid_loader, input_type='bow'):\n",
        "    model.eval()\n",
        "    total_loss, total = 0, 0\n",
        "    correct = 0\n",
        "    num = 0\n",
        "    with torch.no_grad():\n",
        "        for seq, bow, tfidf, target, text in valid_loader:\n",
        "            if input_type == 'bow':\n",
        "                inputs = bow\n",
        "            if input_type == 'tfidf':\n",
        "                inputs = tfidf\n",
        "\n",
        "            # Forward pass\n",
        "            output = model(inputs)\n",
        "\n",
        "            # Calculate how wrong the model is\n",
        "            loss = criterion(output, target)\n",
        "\n",
        "            # Record metrics\n",
        "            total_loss += loss.item()\n",
        "            total += len(target)\n",
        "            _, preds = torch.max(output, axis=-1)\n",
        "\n",
        "            correct += (preds == target).sum().item()\n",
        "            num += len(inputs)\n",
        "\n",
        "    return correct / num, total_loss / total"
      ],
      "metadata": {
        "id": "7ZSHnmNKAGVH"
      },
      "execution_count": 43,
      "outputs": []
    },
    {
      "cell_type": "code",
      "source": [
        "n_epochs = 0\n",
        "train_losses, valid_losses = [], []\n",
        "for epoch in range(10):\n",
        "    train_acc, train_loss = train_epoch(bow_model, optimizer, train_loader, input_type='bow')\n",
        "    valid_acc, valid_loss = validate_epoch(bow_model, valid_loader, input_type='bow')\n",
        "    \n",
        "    tqdm.write(\n",
        "        f'epoch #{epoch + 1:3d}\\ttrain_loss: {train_loss:.2e}\\tvalid_loss: {valid_loss:.2e}\\ttrain_acc: {train_acc:.2e}\\tvalid_acc: {valid_acc:.2e}\\n',\n",
        "    )\n",
        "    train_losses.append(train_loss)\n",
        "    valid_losses.append(valid_loss)\n",
        "    \n"
      ],
      "metadata": {
        "colab": {
          "base_uri": "https://localhost:8080/"
        },
        "id": "kuI3sC_SAGXx",
        "outputId": "9c5be6d5-f64c-4855-e103-716765ca7c25"
      },
      "execution_count": 44,
      "outputs": [
        {
          "output_type": "stream",
          "name": "stdout",
          "text": [
            "epoch #  1\ttrain_loss: 7.76e-04\tvalid_loss: 7.81e-04\ttrain_acc: 9.04e-01\tvalid_acc: 9.06e-01\n",
            "\n",
            "epoch #  2\ttrain_loss: 7.60e-04\tvalid_loss: 7.60e-04\ttrain_acc: 9.12e-01\tvalid_acc: 9.17e-01\n",
            "\n",
            "epoch #  3\ttrain_loss: 7.56e-04\tvalid_loss: 7.60e-04\ttrain_acc: 9.14e-01\tvalid_acc: 9.17e-01\n",
            "\n",
            "epoch #  4\ttrain_loss: 7.54e-04\tvalid_loss: 7.60e-04\ttrain_acc: 9.15e-01\tvalid_acc: 9.17e-01\n",
            "\n",
            "epoch #  5\ttrain_loss: 7.54e-04\tvalid_loss: 7.60e-04\ttrain_acc: 9.14e-01\tvalid_acc: 9.17e-01\n",
            "\n",
            "epoch #  6\ttrain_loss: 7.53e-04\tvalid_loss: 7.60e-04\ttrain_acc: 9.15e-01\tvalid_acc: 9.17e-01\n",
            "\n",
            "epoch #  7\ttrain_loss: 7.53e-04\tvalid_loss: 7.60e-04\ttrain_acc: 9.15e-01\tvalid_acc: 9.17e-01\n",
            "\n",
            "epoch #  8\ttrain_loss: 7.53e-04\tvalid_loss: 7.59e-04\ttrain_acc: 9.15e-01\tvalid_acc: 9.17e-01\n",
            "\n",
            "epoch #  9\ttrain_loss: 7.53e-04\tvalid_loss: 7.60e-04\ttrain_acc: 9.15e-01\tvalid_acc: 9.17e-01\n",
            "\n",
            "epoch # 10\ttrain_loss: 7.52e-04\tvalid_loss: 7.58e-04\ttrain_acc: 9.16e-01\tvalid_acc: 9.18e-01\n",
            "\n"
          ]
        }
      ]
    },
    {
      "cell_type": "code",
      "source": [
        "epoch_ticks = range(1, n_epochs + 1)\n",
        "plt.plot(epoch_ticks, train_losses)\n",
        "plt.plot(epoch_ticks, valid_losses)\n",
        "plt.legend(['Train Loss', 'Valid Loss'])\n",
        "plt.title('Losses') \n",
        "plt.xlabel('Epoch #')\n",
        "plt.ylabel('Loss')\n",
        "plt.xticks(epoch_ticks)\n",
        "plt.show()"
      ],
      "metadata": {
        "colab": {
          "base_uri": "https://localhost:8080/",
          "height": 641
        },
        "id": "1CuWJFcpAGbY",
        "outputId": "4675fd0b-2da2-4f1f-8bfd-df9d79de94af"
      },
      "execution_count": 45,
      "outputs": [
        {
          "output_type": "error",
          "ename": "ValueError",
          "evalue": "ignored",
          "traceback": [
            "\u001b[0;31m---------------------------------------------------------------------------\u001b[0m",
            "\u001b[0;31mValueError\u001b[0m                                Traceback (most recent call last)",
            "\u001b[0;32m<ipython-input-45-0acd45379783>\u001b[0m in \u001b[0;36m<module>\u001b[0;34m()\u001b[0m\n\u001b[1;32m      1\u001b[0m \u001b[0mepoch_ticks\u001b[0m \u001b[0;34m=\u001b[0m \u001b[0mrange\u001b[0m\u001b[0;34m(\u001b[0m\u001b[0;36m1\u001b[0m\u001b[0;34m,\u001b[0m \u001b[0mn_epochs\u001b[0m \u001b[0;34m+\u001b[0m \u001b[0;36m1\u001b[0m\u001b[0;34m)\u001b[0m\u001b[0;34m\u001b[0m\u001b[0;34m\u001b[0m\u001b[0m\n\u001b[0;32m----> 2\u001b[0;31m \u001b[0mplt\u001b[0m\u001b[0;34m.\u001b[0m\u001b[0mplot\u001b[0m\u001b[0;34m(\u001b[0m\u001b[0mepoch_ticks\u001b[0m\u001b[0;34m,\u001b[0m \u001b[0mtrain_losses\u001b[0m\u001b[0;34m)\u001b[0m\u001b[0;34m\u001b[0m\u001b[0;34m\u001b[0m\u001b[0m\n\u001b[0m\u001b[1;32m      3\u001b[0m \u001b[0mplt\u001b[0m\u001b[0;34m.\u001b[0m\u001b[0mplot\u001b[0m\u001b[0;34m(\u001b[0m\u001b[0mepoch_ticks\u001b[0m\u001b[0;34m,\u001b[0m \u001b[0mvalid_losses\u001b[0m\u001b[0;34m)\u001b[0m\u001b[0;34m\u001b[0m\u001b[0;34m\u001b[0m\u001b[0m\n\u001b[1;32m      4\u001b[0m \u001b[0mplt\u001b[0m\u001b[0;34m.\u001b[0m\u001b[0mlegend\u001b[0m\u001b[0;34m(\u001b[0m\u001b[0;34m[\u001b[0m\u001b[0;34m'Train Loss'\u001b[0m\u001b[0;34m,\u001b[0m \u001b[0;34m'Valid Loss'\u001b[0m\u001b[0;34m]\u001b[0m\u001b[0;34m)\u001b[0m\u001b[0;34m\u001b[0m\u001b[0;34m\u001b[0m\u001b[0m\n\u001b[1;32m      5\u001b[0m \u001b[0mplt\u001b[0m\u001b[0;34m.\u001b[0m\u001b[0mtitle\u001b[0m\u001b[0;34m(\u001b[0m\u001b[0;34m'Losses'\u001b[0m\u001b[0;34m)\u001b[0m\u001b[0;34m\u001b[0m\u001b[0;34m\u001b[0m\u001b[0m\n",
            "\u001b[0;32m/usr/local/lib/python3.7/dist-packages/matplotlib/pyplot.py\u001b[0m in \u001b[0;36mplot\u001b[0;34m(scalex, scaley, data, *args, **kwargs)\u001b[0m\n\u001b[1;32m   2761\u001b[0m     return gca().plot(\n\u001b[1;32m   2762\u001b[0m         *args, scalex=scalex, scaley=scaley, **({\"data\": data} if data\n\u001b[0;32m-> 2763\u001b[0;31m         is not None else {}), **kwargs)\n\u001b[0m\u001b[1;32m   2764\u001b[0m \u001b[0;34m\u001b[0m\u001b[0m\n\u001b[1;32m   2765\u001b[0m \u001b[0;34m\u001b[0m\u001b[0m\n",
            "\u001b[0;32m/usr/local/lib/python3.7/dist-packages/matplotlib/axes/_axes.py\u001b[0m in \u001b[0;36mplot\u001b[0;34m(self, scalex, scaley, data, *args, **kwargs)\u001b[0m\n\u001b[1;32m   1645\u001b[0m         \"\"\"\n\u001b[1;32m   1646\u001b[0m         \u001b[0mkwargs\u001b[0m \u001b[0;34m=\u001b[0m \u001b[0mcbook\u001b[0m\u001b[0;34m.\u001b[0m\u001b[0mnormalize_kwargs\u001b[0m\u001b[0;34m(\u001b[0m\u001b[0mkwargs\u001b[0m\u001b[0;34m,\u001b[0m \u001b[0mmlines\u001b[0m\u001b[0;34m.\u001b[0m\u001b[0mLine2D\u001b[0m\u001b[0;34m)\u001b[0m\u001b[0;34m\u001b[0m\u001b[0;34m\u001b[0m\u001b[0m\n\u001b[0;32m-> 1647\u001b[0;31m         \u001b[0mlines\u001b[0m \u001b[0;34m=\u001b[0m \u001b[0;34m[\u001b[0m\u001b[0;34m*\u001b[0m\u001b[0mself\u001b[0m\u001b[0;34m.\u001b[0m\u001b[0m_get_lines\u001b[0m\u001b[0;34m(\u001b[0m\u001b[0;34m*\u001b[0m\u001b[0margs\u001b[0m\u001b[0;34m,\u001b[0m \u001b[0mdata\u001b[0m\u001b[0;34m=\u001b[0m\u001b[0mdata\u001b[0m\u001b[0;34m,\u001b[0m \u001b[0;34m**\u001b[0m\u001b[0mkwargs\u001b[0m\u001b[0;34m)\u001b[0m\u001b[0;34m]\u001b[0m\u001b[0;34m\u001b[0m\u001b[0;34m\u001b[0m\u001b[0m\n\u001b[0m\u001b[1;32m   1648\u001b[0m         \u001b[0;32mfor\u001b[0m \u001b[0mline\u001b[0m \u001b[0;32min\u001b[0m \u001b[0mlines\u001b[0m\u001b[0;34m:\u001b[0m\u001b[0;34m\u001b[0m\u001b[0;34m\u001b[0m\u001b[0m\n\u001b[1;32m   1649\u001b[0m             \u001b[0mself\u001b[0m\u001b[0;34m.\u001b[0m\u001b[0madd_line\u001b[0m\u001b[0;34m(\u001b[0m\u001b[0mline\u001b[0m\u001b[0;34m)\u001b[0m\u001b[0;34m\u001b[0m\u001b[0;34m\u001b[0m\u001b[0m\n",
            "\u001b[0;32m/usr/local/lib/python3.7/dist-packages/matplotlib/axes/_base.py\u001b[0m in \u001b[0;36m__call__\u001b[0;34m(self, *args, **kwargs)\u001b[0m\n\u001b[1;32m    214\u001b[0m                 \u001b[0mthis\u001b[0m \u001b[0;34m+=\u001b[0m \u001b[0margs\u001b[0m\u001b[0;34m[\u001b[0m\u001b[0;36m0\u001b[0m\u001b[0;34m]\u001b[0m\u001b[0;34m,\u001b[0m\u001b[0;34m\u001b[0m\u001b[0;34m\u001b[0m\u001b[0m\n\u001b[1;32m    215\u001b[0m                 \u001b[0margs\u001b[0m \u001b[0;34m=\u001b[0m \u001b[0margs\u001b[0m\u001b[0;34m[\u001b[0m\u001b[0;36m1\u001b[0m\u001b[0;34m:\u001b[0m\u001b[0;34m]\u001b[0m\u001b[0;34m\u001b[0m\u001b[0;34m\u001b[0m\u001b[0m\n\u001b[0;32m--> 216\u001b[0;31m             \u001b[0;32myield\u001b[0m \u001b[0;32mfrom\u001b[0m \u001b[0mself\u001b[0m\u001b[0;34m.\u001b[0m\u001b[0m_plot_args\u001b[0m\u001b[0;34m(\u001b[0m\u001b[0mthis\u001b[0m\u001b[0;34m,\u001b[0m \u001b[0mkwargs\u001b[0m\u001b[0;34m)\u001b[0m\u001b[0;34m\u001b[0m\u001b[0;34m\u001b[0m\u001b[0m\n\u001b[0m\u001b[1;32m    217\u001b[0m \u001b[0;34m\u001b[0m\u001b[0m\n\u001b[1;32m    218\u001b[0m     \u001b[0;32mdef\u001b[0m \u001b[0mget_next_color\u001b[0m\u001b[0;34m(\u001b[0m\u001b[0mself\u001b[0m\u001b[0;34m)\u001b[0m\u001b[0;34m:\u001b[0m\u001b[0;34m\u001b[0m\u001b[0;34m\u001b[0m\u001b[0m\n",
            "\u001b[0;32m/usr/local/lib/python3.7/dist-packages/matplotlib/axes/_base.py\u001b[0m in \u001b[0;36m_plot_args\u001b[0;34m(self, tup, kwargs)\u001b[0m\n\u001b[1;32m    340\u001b[0m \u001b[0;34m\u001b[0m\u001b[0m\n\u001b[1;32m    341\u001b[0m         \u001b[0;32mif\u001b[0m \u001b[0mx\u001b[0m\u001b[0;34m.\u001b[0m\u001b[0mshape\u001b[0m\u001b[0;34m[\u001b[0m\u001b[0;36m0\u001b[0m\u001b[0;34m]\u001b[0m \u001b[0;34m!=\u001b[0m \u001b[0my\u001b[0m\u001b[0;34m.\u001b[0m\u001b[0mshape\u001b[0m\u001b[0;34m[\u001b[0m\u001b[0;36m0\u001b[0m\u001b[0;34m]\u001b[0m\u001b[0;34m:\u001b[0m\u001b[0;34m\u001b[0m\u001b[0;34m\u001b[0m\u001b[0m\n\u001b[0;32m--> 342\u001b[0;31m             raise ValueError(f\"x and y must have same first dimension, but \"\n\u001b[0m\u001b[1;32m    343\u001b[0m                              f\"have shapes {x.shape} and {y.shape}\")\n\u001b[1;32m    344\u001b[0m         \u001b[0;32mif\u001b[0m \u001b[0mx\u001b[0m\u001b[0;34m.\u001b[0m\u001b[0mndim\u001b[0m \u001b[0;34m>\u001b[0m \u001b[0;36m2\u001b[0m \u001b[0;32mor\u001b[0m \u001b[0my\u001b[0m\u001b[0;34m.\u001b[0m\u001b[0mndim\u001b[0m \u001b[0;34m>\u001b[0m \u001b[0;36m2\u001b[0m\u001b[0;34m:\u001b[0m\u001b[0;34m\u001b[0m\u001b[0;34m\u001b[0m\u001b[0m\n",
            "\u001b[0;31mValueError\u001b[0m: x and y must have same first dimension, but have shapes (0,) and (10,)"
          ]
        },
        {
          "output_type": "display_data",
          "data": {
            "text/plain": [
              "<Figure size 432x288 with 1 Axes>"
            ],
            "image/png": "[encoded data removed]"
          },
          "metadata": {
            "needs_background": "light"
          }
        }
      ]
    },
    {
      "cell_type": "code",
      "source": [
        ""
      ],
      "metadata": {
        "id": "V3b8JOiyAGdv"
      },
      "execution_count": null,
      "outputs": []
    },
    {
      "cell_type": "code",
      "source": [
        ""
      ],
      "metadata": {
        "id": "ca5nMFIYAGgp"
      },
      "execution_count": null,
      "outputs": []
    },
    {
      "cell_type": "code",
      "source": [
        ""
      ],
      "metadata": {
        "id": "BWI1LQ_5AGjC"
      },
      "execution_count": null,
      "outputs": []
    },
    {
      "cell_type": "code",
      "source": [
        "class text_ds(Dataset):\n",
        "    def __init__(self, df):\n",
        "\n",
        "        # Clean and tokenize\n",
        "        # stop_words = set(stopwords.words('english'))\n",
        "        # lemmatizer = WordNetLemmatizer()\n",
        "        lemmatizer = WordNetLemmatizer()\n",
        "        df['tokens'] = df.comment_text.apply(\n",
        "            partial(\n",
        "                tokenize,\n",
        "                stop_words='english',\n",
        "                \n",
        "                lemmatizer=lemmatizer,\n",
        "            ),\n",
        "        )  \n",
        "        \n",
        "        all_tokens = [token for doc in list(df.tokens) for token in doc]\n",
        "            \n",
        "        # Build vocab\n",
        "        vocab = sorted(set(\n",
        "            token for doc in list(df.tokens) for token in doc\n",
        "        ))\n",
        "        self.token2idx = {token: idx for idx, token in enumerate(vocab)}\n",
        "        self.idx2token = {idx: token for token, idx in self.token2idx.items()}\n",
        "        \n",
        "        # Convert tokens to indexes\n",
        "        df['indexed_tokens'] = df.tokens.progress_apply(\n",
        "            lambda doc: [self.token2idx[token] for token in doc],\n",
        "        )\n",
        "        \n",
        "        # Build BoW vector\n",
        "        # df['bow_vector'] = df.indexed_tokens.progress_apply(\n",
        "        #     build_bow_vector, args=(self.idx2token,)\n",
        "        # )\n",
        "        \n",
        "        # Build TF-IDF vector\n",
        "        vectorizer = TfidfVectorizer(\n",
        "            analyzer='word',\n",
        "            tokenizer=lambda doc: doc,\n",
        "            preprocessor=lambda doc: doc,\n",
        "            token_pattern=None,\n",
        "            max_features=10000\n",
        "        )\n",
        "        vectors = vectorizer.fit_transform(df.comment_text).toarray()\n",
        "        df['tfidf_vector'] = [vector.tolist() for vector in vectors]\n",
        "        \n",
        "        self.text = df.comment_text.tolist()\n",
        "        self.sequences = df.indexed_tokens.tolist()\n",
        "        # self.bow_vector = df.bow_vector.tolist()\n",
        "        self.tfidf_vector = df.tfidf_vector.tolist()\n",
        "        self.targets = df.toxic.tolist()\n",
        "    \n",
        "    def __getitem__(self, i):\n",
        "        return (\n",
        "            self.sequences[i],\n",
        "            # self.bow_vector[i],\n",
        "            self.tfidf_vector[i],\n",
        "            self.targets[i]\n",
        "        )\n",
        "    \n",
        "    def __len__(self):\n",
        "        return len(self.targets)"
      ],
      "metadata": {
        "colab": {
          "base_uri": "https://localhost:8080/",
          "height": 240
        },
        "id": "Mu_e4Chflnkf",
        "outputId": "1ba72280-2558-4356-97f9-38f35d097b67"
      },
      "execution_count": 3,
      "outputs": [
        {
          "output_type": "error",
          "ename": "NameError",
          "evalue": "ignored",
          "traceback": [
            "\u001b[0;31m---------------------------------------------------------------------------\u001b[0m",
            "\u001b[0;31mNameError\u001b[0m                                 Traceback (most recent call last)",
            "\u001b[0;32m<ipython-input-3-405a4854c816>\u001b[0m in \u001b[0;36m<module>\u001b[0;34m()\u001b[0m\n\u001b[0;32m----> 1\u001b[0;31m \u001b[0;32mclass\u001b[0m \u001b[0mtext_ds\u001b[0m\u001b[0;34m(\u001b[0m\u001b[0mDataset\u001b[0m\u001b[0;34m)\u001b[0m\u001b[0;34m:\u001b[0m\u001b[0;34m\u001b[0m\u001b[0;34m\u001b[0m\u001b[0m\n\u001b[0m\u001b[1;32m      2\u001b[0m     \u001b[0;32mdef\u001b[0m \u001b[0m__init__\u001b[0m\u001b[0;34m(\u001b[0m\u001b[0mself\u001b[0m\u001b[0;34m,\u001b[0m \u001b[0mdf\u001b[0m\u001b[0;34m)\u001b[0m\u001b[0;34m:\u001b[0m\u001b[0;34m\u001b[0m\u001b[0;34m\u001b[0m\u001b[0m\n\u001b[1;32m      3\u001b[0m \u001b[0;34m\u001b[0m\u001b[0m\n\u001b[1;32m      4\u001b[0m         \u001b[0;31m# Clean and tokenize\u001b[0m\u001b[0;34m\u001b[0m\u001b[0;34m\u001b[0m\u001b[0;34m\u001b[0m\u001b[0m\n\u001b[1;32m      5\u001b[0m         \u001b[0;31m# stop_words = set(stopwords.words('english'))\u001b[0m\u001b[0;34m\u001b[0m\u001b[0;34m\u001b[0m\u001b[0;34m\u001b[0m\u001b[0m\n",
            "\u001b[0;31mNameError\u001b[0m: name 'Dataset' is not defined"
          ]
        }
      ]
    },
    {
      "cell_type": "code",
      "source": [
        "dataset = text_ds(df_classification)"
      ],
      "metadata": {
        "colab": {
          "base_uri": "https://localhost:8080/"
        },
        "id": "Zbt3zOkslnnW",
        "outputId": "697af05e-ddf5-4f19-ef36-86d4a50167db"
      },
      "execution_count": 12,
      "outputs": [
        {
          "output_type": "stream",
          "name": "stderr",
          "text": [
            "100%|██████████| 159571/159571 [00:05<00:00, 31207.02it/s]\n"
          ]
        }
      ]
    },
    {
      "cell_type": "code",
      "source": [
        "def split_train_valid_test(corpus, valid_ratio=0.1, test_ratio=0.1):\n",
        "    \"\"\"Split dataset into train, validation, and test.\"\"\"\n",
        "    test_length = int(len(corpus) * test_ratio)\n",
        "    valid_length = int(len(corpus) * valid_ratio)\n",
        "    train_length = len(corpus) - valid_length - test_length\n",
        "    return random_split(\n",
        "        corpus, lengths=[train_length, valid_length, test_length],\n",
        "    )"
      ],
      "metadata": {
        "id": "Q7Xi44Jtlntl"
      },
      "execution_count": 13,
      "outputs": []
    },
    {
      "cell_type": "code",
      "source": [
        "train_dataset, valid_dataset, test_dataset = split_train_valid_test(\n",
        "    dataset, valid_ratio=0.25, test_ratio=0.05)\n",
        "len(train_dataset), len(valid_dataset), len(test_dataset)"
      ],
      "metadata": {
        "colab": {
          "base_uri": "https://localhost:8080/"
        },
        "id": "pcmNjs6ulnwv",
        "outputId": "731e59f8-95a5-4f39-c2e1-b0a416c2cfcf"
      },
      "execution_count": 14,
      "outputs": [
        {
          "output_type": "execute_result",
          "data": {
            "text/plain": [
              "(111701, 39892, 7978)"
            ]
          },
          "metadata": {},
          "execution_count": 14
        }
      ]
    },
    {
      "cell_type": "code",
      "source": [
        "word_vectorizer = TfidfVectorizer(\n",
        "    sublinear_tf=True,\n",
        "    strip_accents='unicode',\n",
        "    analyzer='word',\n",
        "    token_pattern=r'\\w{1,}',\n",
        "    stop_words='english',\n",
        "    ngram_range=(1, 1),\n",
        "    max_features=10000)\n",
        "word_vectorizer.fit(df_classification.comment_text)\n"
      ],
      "metadata": {
        "colab": {
          "base_uri": "https://localhost:8080/"
        },
        "id": "VmO2Apcr7Xkv",
        "outputId": "b6f7eda5-2d26-49f6-d7b3-336304870b7b"
      },
      "execution_count": 47,
      "outputs": [
        {
          "output_type": "execute_result",
          "data": {
            "text/plain": [
              "TfidfVectorizer(max_features=10000, stop_words='english',\n",
              "                strip_accents='unicode', sublinear_tf=True,\n",
              "                token_pattern='\\\\w{1,}')"
            ]
          },
          "metadata": {},
          "execution_count": 47
        }
      ]
    },
    {
      "cell_type": "code",
      "source": [
        "X = df_classification['comment_text']\n",
        "y = df_classification['toxic']"
      ],
      "metadata": {
        "id": "IvwSiVk39BTu"
      },
      "execution_count": 48,
      "outputs": []
    },
    {
      "cell_type": "code",
      "source": [
        "x = word_vectorizer.transform(X)"
      ],
      "metadata": {
        "id": "lhP9DnMh9Q3Q"
      },
      "execution_count": 49,
      "outputs": []
    },
    {
      "cell_type": "code",
      "source": [
        "x = torch.from_numpy(x.todense())"
      ],
      "metadata": {
        "id": "wZMZlnVc9S4D"
      },
      "execution_count": null,
      "outputs": []
    },
    {
      "cell_type": "code",
      "source": [
        "x"
      ],
      "metadata": {
        "id": "e1pRcetn-AW3"
      },
      "execution_count": null,
      "outputs": []
    },
    {
      "cell_type": "code",
      "source": [
        "def prepare_data_class(X,y, batch_size):\n",
        "    train_size = int(0.8 * X.shape[0])\n",
        "    val_size = int(X.shape[0] - train_size)\n",
        "\n",
        "    X = word_vectorizer.transform(X)\n",
        "    y = y.to_numpy()\n",
        "\n",
        "    X_tensor = torch.Tensor(X)\n",
        "    y_tensor = torch.Tensor(y)\n",
        "\n",
        "    dataset = TensorDataset(X_tensor, y_tensor)\n",
        "    train_ds, val_ds = random_split(dataset, [train_size, val_size])\n",
        "\n",
        "    train_loader = DataLoader(train_ds, batch_size=batch_size,\n",
        "                                              shuffle=True)\n",
        "\n",
        "    val_loader = DataLoader(val_ds, batch_size=batch_size,\n",
        "                                             shuffle=False)\n",
        "    return train_loader, val_loader"
      ],
      "metadata": {
        "id": "WH6jOPUA291A"
      },
      "execution_count": 38,
      "outputs": []
    },
    {
      "cell_type": "code",
      "source": [
        "BATCH_SIZE = 528\n",
        "\n",
        "def collate(batch):\n",
        "    # seq = [item[0] for item in batch]\n",
        "    tfidf = torch.Tensor([item[1] for item in batch])\n",
        "    target = torch.LongTensor([item[2] for item in batch])\n",
        "    return  tfidf, target\n",
        "\n",
        "train_loader = DataLoader(train_dataset, batch_size=BATCH_SIZE, collate_fn=collate)\n",
        "valid_loader = DataLoader(valid_dataset, batch_size=BATCH_SIZE, collate_fn=collate)\n",
        "test_loader = DataLoader(test_dataset, batch_size=BATCH_SIZE, collate_fn=collate)"
      ],
      "metadata": {
        "id": "TA_ARvBryjMp"
      },
      "execution_count": 29,
      "outputs": []
    },
    {
      "cell_type": "code",
      "source": [
        "class FeedfowardTextClassifier(nn.Module):\n",
        "    def __init__(self, device, vocab_size, hidden1, hidden2, num_labels, batch_size):\n",
        "        super(FeedfowardTextClassifier, self).__init__()\n",
        "        self.device = device\n",
        "        self.batch_size = batch_size\n",
        "        self.fc1 = nn.Linear(vocab_size, hidden1)\n",
        "        self.fc2 = nn.Linear(hidden1, hidden2)\n",
        "        self.fc3 = nn.Linear(hidden2, num_labels)\n",
        "    \n",
        "    def forward(self, x):\n",
        "        batch_size = len(x)\n",
        "        if batch_size != self.batch_size:\n",
        "            self.batch_size = batch_size\n",
        "        # x = torch.FloatTensor(x)\n",
        "        x = F.relu(self.fc1(x))\n",
        "        x = F.relu(self.fc2(x))\n",
        "        return torch.sigmoid(self.fc3(x))\n"
      ],
      "metadata": {
        "id": "AxpBuuXQyjRh"
      },
      "execution_count": 34,
      "outputs": []
    },
    {
      "cell_type": "code",
      "source": [
        "# Define hidden layer size\n",
        "HIDDEN1 = 100 #@param [10, 30, 50, 100, 200, 500] {allow-input: true}\n",
        "HIDDEN2 = 50 #@param [10, 30, 50, 100, 200, 500] {allow-input: true}"
      ],
      "metadata": {
        "id": "cvuWeMKuyjWl"
      },
      "execution_count": 19,
      "outputs": []
    },
    {
      "cell_type": "code",
      "source": [
        "tfidf_model = FeedfowardTextClassifier(\n",
        "    vocab_size=len(dataset.token2idx),\n",
        "    hidden1=HIDDEN1,\n",
        "    hidden2=HIDDEN2,\n",
        "    num_labels=2,\n",
        "    device=device,\n",
        "    batch_size=BATCH_SIZE,\n",
        ")\n",
        "tfidf_model"
      ],
      "metadata": {
        "colab": {
          "base_uri": "https://localhost:8080/"
        },
        "id": "XZNGpftuyjcj",
        "outputId": "746fc7e5-5594-4b44-df61-a92a242820f6"
      },
      "execution_count": 35,
      "outputs": [
        {
          "output_type": "execute_result",
          "data": {
            "text/plain": [
              "FeedfowardTextClassifier(\n",
              "  (fc1): Linear(in_features=149833, out_features=100, bias=True)\n",
              "  (fc2): Linear(in_features=100, out_features=50, bias=True)\n",
              "  (fc3): Linear(in_features=50, out_features=2, bias=True)\n",
              ")"
            ]
          },
          "metadata": {},
          "execution_count": 35
        }
      ]
    },
    {
      "cell_type": "code",
      "source": [
        "criterion = nn.CrossEntropyLoss()\n",
        "optimizer = torch.optim.Adam(\n",
        "    filter(lambda p: p.requires_grad, tfidf_model.parameters()),\n",
        "    lr=0.001,\n",
        ")\n",
        "# scheduler = CosineAnnealingLR(optimizer, 1)"
      ],
      "metadata": {
        "id": "S6HtK2ERyjhz"
      },
      "execution_count": 22,
      "outputs": []
    },
    {
      "cell_type": "code",
      "source": [
        "# обучение\n",
        "def fit_class(epochs, model, loss_func, opt, train_dl, valid_dl):\n",
        "    train_losses = []\n",
        "    train_acc = []\n",
        "    val_losses = []\n",
        "    valid_accuracies = []\n",
        "    for epoch in range(epochs):\n",
        "        model.train()\n",
        "        loss_sum = 0\n",
        "        squared_error = 0\n",
        "        n = 0\n",
        "        for xb, yb in (train_dl):\n",
        "            xb= xb.to(device)\n",
        "            yb = yb.to(device)\n",
        "            probs = model(xb)\n",
        "            loss = loss_func(model(xb), yb)\n",
        "            loss_sum += loss.item()\n",
        "            _, preds = torch.max(probs, axis=-1)\n",
        "\n",
        "            correct += (probs == yb).sum().item()\n",
        "            num += len(xb)\n",
        "            \n",
        "            loss.backward()\n",
        "            opt.step()\n",
        "            opt.zero_grad()\n",
        "        train_acc.append(pow(squared_error / n,0.5))\n",
        "        train_losses.append(loss_sum / len(train_dl))\n",
        "\n",
        "        model.eval()\n",
        "        loss_sum = 0\n",
        "        squared_error = 0\n",
        "        n = 0\n",
        "        with torch.no_grad():\n",
        "            for xb, yb in valid_dl:\n",
        "                xb, yb = xb.to(device), yb.to(device)\n",
        "                probs = model(xb)\n",
        "                loss_sum += loss_func(probs, yb).item()\n",
        "                _, preds = torch.max(probs, axis=-1)\n",
        "                correct += (probs == yb).sum().item()\n",
        "                num += len(xb)\n",
        "                \n",
        "        val_losses.append(loss_sum / len(valid_dl))\n",
        "        valid_accuracies.append(pow(squared_error / n,0.5))\n",
        "        \n",
        "    return train_losses, train_acc,  val_losses, valid_accuracies"
      ],
      "metadata": {
        "id": "5ulbv3eL2LxW"
      },
      "execution_count": 27,
      "outputs": []
    },
    {
      "cell_type": "code",
      "source": [
        "epochs = 3\n",
        "train_losses, valid_losses = [], []\n",
        "result = fit_class(epochs, tfidf_model, criterion, optimizer, *prepare_data_class())\n",
        "\n"
      ],
      "metadata": {
        "colab": {
          "base_uri": "https://localhost:8080/",
          "height": 371
        },
        "id": "JPo8Fs-iyjlC",
        "outputId": "5c8f7fde-dab5-47f5-8e38-46f22100005e"
      },
      "execution_count": 36,
      "outputs": [
        {
          "output_type": "error",
          "ename": "RuntimeError",
          "evalue": "ignored",
          "traceback": [
            "\u001b[0;31m---------------------------------------------------------------------------\u001b[0m",
            "\u001b[0;31mRuntimeError\u001b[0m                              Traceback (most recent call last)",
            "\u001b[0;32m<ipython-input-36-f2055a325eda>\u001b[0m in \u001b[0;36m<module>\u001b[0;34m()\u001b[0m\n\u001b[1;32m      1\u001b[0m \u001b[0mepochs\u001b[0m \u001b[0;34m=\u001b[0m \u001b[0;36m3\u001b[0m\u001b[0;34m\u001b[0m\u001b[0;34m\u001b[0m\u001b[0m\n\u001b[1;32m      2\u001b[0m \u001b[0mtrain_losses\u001b[0m\u001b[0;34m,\u001b[0m \u001b[0mvalid_losses\u001b[0m \u001b[0;34m=\u001b[0m \u001b[0;34m[\u001b[0m\u001b[0;34m]\u001b[0m\u001b[0;34m,\u001b[0m \u001b[0;34m[\u001b[0m\u001b[0;34m]\u001b[0m\u001b[0;34m\u001b[0m\u001b[0;34m\u001b[0m\u001b[0m\n\u001b[0;32m----> 3\u001b[0;31m \u001b[0mresult\u001b[0m \u001b[0;34m=\u001b[0m \u001b[0mfit_class\u001b[0m\u001b[0;34m(\u001b[0m\u001b[0mepochs\u001b[0m\u001b[0;34m,\u001b[0m \u001b[0mtfidf_model\u001b[0m\u001b[0;34m,\u001b[0m \u001b[0mcriterion\u001b[0m\u001b[0;34m,\u001b[0m \u001b[0moptimizer\u001b[0m\u001b[0;34m,\u001b[0m \u001b[0mtrain_loader\u001b[0m\u001b[0;34m,\u001b[0m \u001b[0mvalid_loader\u001b[0m\u001b[0;34m)\u001b[0m\u001b[0;34m\u001b[0m\u001b[0;34m\u001b[0m\u001b[0m\n\u001b[0m\u001b[1;32m      4\u001b[0m \u001b[0;34m\u001b[0m\u001b[0m\n",
            "\u001b[0;32m<ipython-input-27-8024304001bf>\u001b[0m in \u001b[0;36mfit_class\u001b[0;34m(epochs, model, loss_func, opt, train_dl, valid_dl)\u001b[0m\n\u001b[1;32m     13\u001b[0m             \u001b[0mxb\u001b[0m\u001b[0;34m=\u001b[0m \u001b[0mxb\u001b[0m\u001b[0;34m.\u001b[0m\u001b[0mto\u001b[0m\u001b[0;34m(\u001b[0m\u001b[0mdevice\u001b[0m\u001b[0;34m)\u001b[0m\u001b[0;34m\u001b[0m\u001b[0;34m\u001b[0m\u001b[0m\n\u001b[1;32m     14\u001b[0m             \u001b[0myb\u001b[0m \u001b[0;34m=\u001b[0m \u001b[0myb\u001b[0m\u001b[0;34m.\u001b[0m\u001b[0mto\u001b[0m\u001b[0;34m(\u001b[0m\u001b[0mdevice\u001b[0m\u001b[0;34m)\u001b[0m\u001b[0;34m\u001b[0m\u001b[0;34m\u001b[0m\u001b[0m\n\u001b[0;32m---> 15\u001b[0;31m             \u001b[0mprobs\u001b[0m \u001b[0;34m=\u001b[0m \u001b[0mmodel\u001b[0m\u001b[0;34m(\u001b[0m\u001b[0mxb\u001b[0m\u001b[0;34m)\u001b[0m\u001b[0;34m\u001b[0m\u001b[0;34m\u001b[0m\u001b[0m\n\u001b[0m\u001b[1;32m     16\u001b[0m             \u001b[0mloss\u001b[0m \u001b[0;34m=\u001b[0m \u001b[0mloss_func\u001b[0m\u001b[0;34m(\u001b[0m\u001b[0mmodel\u001b[0m\u001b[0;34m(\u001b[0m\u001b[0mxb\u001b[0m\u001b[0;34m)\u001b[0m\u001b[0;34m,\u001b[0m \u001b[0myb\u001b[0m\u001b[0;34m)\u001b[0m\u001b[0;34m\u001b[0m\u001b[0;34m\u001b[0m\u001b[0m\n\u001b[1;32m     17\u001b[0m             \u001b[0mloss_sum\u001b[0m \u001b[0;34m+=\u001b[0m \u001b[0mloss\u001b[0m\u001b[0;34m.\u001b[0m\u001b[0mitem\u001b[0m\u001b[0;34m(\u001b[0m\u001b[0;34m)\u001b[0m\u001b[0;34m\u001b[0m\u001b[0;34m\u001b[0m\u001b[0m\n",
            "\u001b[0;32m/usr/local/lib/python3.7/dist-packages/torch/nn/modules/module.py\u001b[0m in \u001b[0;36m_call_impl\u001b[0;34m(self, *input, **kwargs)\u001b[0m\n\u001b[1;32m   1108\u001b[0m         if not (self._backward_hooks or self._forward_hooks or self._forward_pre_hooks or _global_backward_hooks\n\u001b[1;32m   1109\u001b[0m                 or _global_forward_hooks or _global_forward_pre_hooks):\n\u001b[0;32m-> 1110\u001b[0;31m             \u001b[0;32mreturn\u001b[0m \u001b[0mforward_call\u001b[0m\u001b[0;34m(\u001b[0m\u001b[0;34m*\u001b[0m\u001b[0minput\u001b[0m\u001b[0;34m,\u001b[0m \u001b[0;34m**\u001b[0m\u001b[0mkwargs\u001b[0m\u001b[0;34m)\u001b[0m\u001b[0;34m\u001b[0m\u001b[0;34m\u001b[0m\u001b[0m\n\u001b[0m\u001b[1;32m   1111\u001b[0m         \u001b[0;31m# Do not call functions when jit is used\u001b[0m\u001b[0;34m\u001b[0m\u001b[0;34m\u001b[0m\u001b[0;34m\u001b[0m\u001b[0m\n\u001b[1;32m   1112\u001b[0m         \u001b[0mfull_backward_hooks\u001b[0m\u001b[0;34m,\u001b[0m \u001b[0mnon_full_backward_hooks\u001b[0m \u001b[0;34m=\u001b[0m \u001b[0;34m[\u001b[0m\u001b[0;34m]\u001b[0m\u001b[0;34m,\u001b[0m \u001b[0;34m[\u001b[0m\u001b[0;34m]\u001b[0m\u001b[0;34m\u001b[0m\u001b[0;34m\u001b[0m\u001b[0m\n",
            "\u001b[0;32m<ipython-input-34-590172045db2>\u001b[0m in \u001b[0;36mforward\u001b[0;34m(self, x)\u001b[0m\n\u001b[1;32m     13\u001b[0m             \u001b[0mself\u001b[0m\u001b[0;34m.\u001b[0m\u001b[0mbatch_size\u001b[0m \u001b[0;34m=\u001b[0m \u001b[0mbatch_size\u001b[0m\u001b[0;34m\u001b[0m\u001b[0;34m\u001b[0m\u001b[0m\n\u001b[1;32m     14\u001b[0m         \u001b[0;31m# x = torch.FloatTensor(x)\u001b[0m\u001b[0;34m\u001b[0m\u001b[0;34m\u001b[0m\u001b[0;34m\u001b[0m\u001b[0m\n\u001b[0;32m---> 15\u001b[0;31m         \u001b[0mx\u001b[0m \u001b[0;34m=\u001b[0m \u001b[0mF\u001b[0m\u001b[0;34m.\u001b[0m\u001b[0mrelu\u001b[0m\u001b[0;34m(\u001b[0m\u001b[0mself\u001b[0m\u001b[0;34m.\u001b[0m\u001b[0mfc1\u001b[0m\u001b[0;34m(\u001b[0m\u001b[0mx\u001b[0m\u001b[0;34m)\u001b[0m\u001b[0;34m)\u001b[0m\u001b[0;34m\u001b[0m\u001b[0;34m\u001b[0m\u001b[0m\n\u001b[0m\u001b[1;32m     16\u001b[0m         \u001b[0mx\u001b[0m \u001b[0;34m=\u001b[0m \u001b[0mF\u001b[0m\u001b[0;34m.\u001b[0m\u001b[0mrelu\u001b[0m\u001b[0;34m(\u001b[0m\u001b[0mself\u001b[0m\u001b[0;34m.\u001b[0m\u001b[0mfc2\u001b[0m\u001b[0;34m(\u001b[0m\u001b[0mx\u001b[0m\u001b[0;34m)\u001b[0m\u001b[0;34m)\u001b[0m\u001b[0;34m\u001b[0m\u001b[0;34m\u001b[0m\u001b[0m\n\u001b[1;32m     17\u001b[0m         \u001b[0;32mreturn\u001b[0m \u001b[0mtorch\u001b[0m\u001b[0;34m.\u001b[0m\u001b[0msigmoid\u001b[0m\u001b[0;34m(\u001b[0m\u001b[0mself\u001b[0m\u001b[0;34m.\u001b[0m\u001b[0mfc3\u001b[0m\u001b[0;34m(\u001b[0m\u001b[0mx\u001b[0m\u001b[0;34m)\u001b[0m\u001b[0;34m)\u001b[0m\u001b[0;34m\u001b[0m\u001b[0;34m\u001b[0m\u001b[0m\n",
            "\u001b[0;32m/usr/local/lib/python3.7/dist-packages/torch/nn/modules/module.py\u001b[0m in \u001b[0;36m_call_impl\u001b[0;34m(self, *input, **kwargs)\u001b[0m\n\u001b[1;32m   1108\u001b[0m         if not (self._backward_hooks or self._forward_hooks or self._forward_pre_hooks or _global_backward_hooks\n\u001b[1;32m   1109\u001b[0m                 or _global_forward_hooks or _global_forward_pre_hooks):\n\u001b[0;32m-> 1110\u001b[0;31m             \u001b[0;32mreturn\u001b[0m \u001b[0mforward_call\u001b[0m\u001b[0;34m(\u001b[0m\u001b[0;34m*\u001b[0m\u001b[0minput\u001b[0m\u001b[0;34m,\u001b[0m \u001b[0;34m**\u001b[0m\u001b[0mkwargs\u001b[0m\u001b[0;34m)\u001b[0m\u001b[0;34m\u001b[0m\u001b[0;34m\u001b[0m\u001b[0m\n\u001b[0m\u001b[1;32m   1111\u001b[0m         \u001b[0;31m# Do not call functions when jit is used\u001b[0m\u001b[0;34m\u001b[0m\u001b[0;34m\u001b[0m\u001b[0;34m\u001b[0m\u001b[0m\n\u001b[1;32m   1112\u001b[0m         \u001b[0mfull_backward_hooks\u001b[0m\u001b[0;34m,\u001b[0m \u001b[0mnon_full_backward_hooks\u001b[0m \u001b[0;34m=\u001b[0m \u001b[0;34m[\u001b[0m\u001b[0;34m]\u001b[0m\u001b[0;34m,\u001b[0m \u001b[0;34m[\u001b[0m\u001b[0;34m]\u001b[0m\u001b[0;34m\u001b[0m\u001b[0;34m\u001b[0m\u001b[0m\n",
            "\u001b[0;32m/usr/local/lib/python3.7/dist-packages/torch/nn/modules/linear.py\u001b[0m in \u001b[0;36mforward\u001b[0;34m(self, input)\u001b[0m\n\u001b[1;32m    101\u001b[0m \u001b[0;34m\u001b[0m\u001b[0m\n\u001b[1;32m    102\u001b[0m     \u001b[0;32mdef\u001b[0m \u001b[0mforward\u001b[0m\u001b[0;34m(\u001b[0m\u001b[0mself\u001b[0m\u001b[0;34m,\u001b[0m \u001b[0minput\u001b[0m\u001b[0;34m:\u001b[0m \u001b[0mTensor\u001b[0m\u001b[0;34m)\u001b[0m \u001b[0;34m->\u001b[0m \u001b[0mTensor\u001b[0m\u001b[0;34m:\u001b[0m\u001b[0;34m\u001b[0m\u001b[0;34m\u001b[0m\u001b[0m\n\u001b[0;32m--> 103\u001b[0;31m         \u001b[0;32mreturn\u001b[0m \u001b[0mF\u001b[0m\u001b[0;34m.\u001b[0m\u001b[0mlinear\u001b[0m\u001b[0;34m(\u001b[0m\u001b[0minput\u001b[0m\u001b[0;34m,\u001b[0m \u001b[0mself\u001b[0m\u001b[0;34m.\u001b[0m\u001b[0mweight\u001b[0m\u001b[0;34m,\u001b[0m \u001b[0mself\u001b[0m\u001b[0;34m.\u001b[0m\u001b[0mbias\u001b[0m\u001b[0;34m)\u001b[0m\u001b[0;34m\u001b[0m\u001b[0;34m\u001b[0m\u001b[0m\n\u001b[0m\u001b[1;32m    104\u001b[0m \u001b[0;34m\u001b[0m\u001b[0m\n\u001b[1;32m    105\u001b[0m     \u001b[0;32mdef\u001b[0m \u001b[0mextra_repr\u001b[0m\u001b[0;34m(\u001b[0m\u001b[0mself\u001b[0m\u001b[0;34m)\u001b[0m \u001b[0;34m->\u001b[0m \u001b[0mstr\u001b[0m\u001b[0;34m:\u001b[0m\u001b[0;34m\u001b[0m\u001b[0;34m\u001b[0m\u001b[0m\n",
            "\u001b[0;31mRuntimeError\u001b[0m: mat1 and mat2 shapes cannot be multiplied (528x27 and 149833x100)"
          ]
        }
      ]
    },
    {
      "cell_type": "markdown",
      "source": [
        "## 2.2 По необходимости проведите преодбработку/нормализацию данных"
      ],
      "metadata": {
        "id": "wmtslH2mTc2N"
      }
    },
    {
      "cell_type": "code",
      "source": [
        "from sklearn.model_selection import train_test_split"
      ],
      "metadata": {
        "id": "PWQYt5l3sK_-"
      },
      "execution_count": 33,
      "outputs": []
    },
    {
      "cell_type": "code",
      "source": [
        "X_train, X_valid, Y_train, Y_valid= train_test_split(df_classification['comment_text'].tolist(),\\\n",
        "                                                      df_classification['toxic'].tolist(),\\\n",
        "                                                      test_size=0.2,\\\n",
        "                                                      random_state=0)"
      ],
      "metadata": {
        "id": "zRla_xDcsB_9"
      },
      "execution_count": 34,
      "outputs": []
    },
    {
      "cell_type": "code",
      "source": [
        "train_dat =list(zip(Y_train,X_train))\n",
        "valid_dat =list(zip(Y_valid,X_valid))"
      ],
      "metadata": {
        "id": "zUxCraTtsZb-"
      },
      "execution_count": 36,
      "outputs": []
    },
    {
      "cell_type": "code",
      "source": [
        "from torchtext.data import get_tokenizer\n",
        "from torchtext.vocab import build_vocab_from_iterator"
      ],
      "metadata": {
        "id": "cg8jS0p0Tc2N"
      },
      "execution_count": 35,
      "outputs": []
    },
    {
      "cell_type": "code",
      "source": [
        "tokenizer = get_tokenizer(\"basic_english\")"
      ],
      "metadata": {
        "id": "qs626jBiO_GI"
      },
      "execution_count": 11,
      "outputs": []
    },
    {
      "cell_type": "code",
      "source": [
        "tokenizer = get_tokenizer('basic_english')\n",
        "train_iter = train_dat\n",
        "def yield_tokens(data_iter):\n",
        "    for _, text in data_iter:\n",
        "        yield tokenizer(text)\n",
        "\n",
        "vocab = build_vocab_from_iterator(yield_tokens(train_iter), specials=[\"<unk>\"])\n",
        "vocab.set_default_index(vocab[\"<unk>\"])"
      ],
      "metadata": {
        "id": "YMxGQGH-O_Iw"
      },
      "execution_count": 37,
      "outputs": []
    },
    {
      "cell_type": "code",
      "source": [
        "text_pipeline = lambda x: vocab(tokenizer(x))\n",
        "label_pipeline = lambda x: int(x) "
      ],
      "metadata": {
        "id": "gq42SA0XsgDn"
      },
      "execution_count": 38,
      "outputs": []
    },
    {
      "cell_type": "code",
      "source": [
        ""
      ],
      "metadata": {
        "id": "dg5Wo3hSsgLz"
      },
      "execution_count": null,
      "outputs": []
    },
    {
      "cell_type": "markdown",
      "source": [
        "## 2.3 Попробуйте различное количество слоёв\n",
        "\n",
        "Обучите 4 модели, используя различное количество линейных слоёв: 1 (=логистическая регрессия), 2, 3, 4. Между двумя линейными слоями должна быть фунция активации, например, сигмоида. На последнем слое в качестве функции активации используйте сигмоиду.\n",
        "\n",
        "Постройте: 1) график loss для train и test в зависимости от используемого количетсва слоёв; 2) график accuracy для train и test в зависимости от используемого количества слоёв."
      ],
      "metadata": {
        "id": "btEXeSAUTc2N"
      }
    },
    {
      "cell_type": "code",
      "source": [
        "def collate_batch(batch):\n",
        "    label_list, text_list, offsets = [], [], [0]\n",
        "    for (_label, _text) in batch:\n",
        "         label_list.append(label_pipeline(_label))\n",
        "         processed_text = torch.tensor(text_pipeline(_text), dtype=torch.int64)\n",
        "         text_list.append(processed_text)\n",
        "         offsets.append(processed_text.size(0))\n",
        "    label_list = torch.tensor(label_list, dtype=torch.int64)\n",
        "    offsets = torch.tensor(offsets[:-1]).cumsum(dim=0)\n",
        "    text_list = torch.cat(text_list)\n",
        "    return label_list.to(device), text_list.to(device), offsets.to(device)"
      ],
      "metadata": {
        "id": "T2Qm3SpqTc2N"
      },
      "execution_count": 72,
      "outputs": []
    },
    {
      "cell_type": "code",
      "source": [
        "class TextClassificationModel(nn.Module):\n",
        "\n",
        "    def __init__(self, vocab_size, embed_dim, num_class):\n",
        "        super(TextClassificationModel, self).__init__()\n",
        "        # self.embedding = nn.EmbeddingBag(vocab_size, embed_dim, sparse=True)\n",
        "        self.fc1 = nn.Linear(vocab_size,64)\n",
        "        self.fc2 = nn.Linear(64,16)\n",
        "        self.fc3 = nn.Linear(16, num_class)\n",
        "    #     self.init_weights()\n",
        "\n",
        "    # def init_weights(self):\n",
        "    #     initrange = 0.5\n",
        "    #     self.embedding.weight.data.uniform_(-initrange, initrange)\n",
        "    #     self.fc1.weight.data.uniform_(-initrange, initrange)\n",
        "    #     self.fc1.bias.data.zero_()\n",
        "    #     self.fc2.weight.data.uniform_(-initrange, initrange)\n",
        "    #     self.fc2.bias.data.zero_()\n",
        "    #     self.fc3.weight.data.uniform_(-initrange, initrange)\n",
        "    #     self.fc3.bias.data.zero_()\n",
        "\n",
        "    def forward(self, text, offsets):\n",
        "        # embedded = self.embedding(text, offsets)\n",
        "        x = F.relu(self.fc1(text))\n",
        "        x = F.relu(self.fc2(x))\n",
        "        x = self.fc3(x)\n",
        "        return x"
      ],
      "metadata": {
        "id": "zou2PDT7sxVg"
      },
      "execution_count": 139,
      "outputs": []
    },
    {
      "cell_type": "code",
      "source": [
        "train_iter1 = train_dat\n",
        "num_class = len(set([label for (label, text) in train_iter1]))\n",
        "print(num_class)\n",
        "vocab_size = len(vocab)\n",
        "emsize = 128\n",
        "model = TextClassificationModel(vocab_size, emsize, num_class).to(device)"
      ],
      "metadata": {
        "colab": {
          "base_uri": "https://localhost:8080/"
        },
        "id": "DzpXcuR6sxX9",
        "outputId": "beb095a0-ecb0-4f7e-b3de-995a789b1b36"
      },
      "execution_count": 140,
      "outputs": [
        {
          "output_type": "stream",
          "name": "stdout",
          "text": [
            "2\n"
          ]
        }
      ]
    },
    {
      "cell_type": "code",
      "source": [
        "import time\n",
        "\n",
        "def train(train_loader, val_loader, epochs):\n",
        "  train_loss, train_acc = [], []\n",
        "  val_loss, val_acc = [], []\n",
        "  for epoch in range(epochs):\n",
        "      model.train()\n",
        "      total_acc, total_count = 0, 0\n",
        "      loss_sum = 0\n",
        "      for idx,(label, text, offsets) in tqdm(enumerate(train_loader)):\n",
        "          optimizer.zero_grad()\n",
        "          predited_label = model(text, offsets)\n",
        "          loss = criterion(predited_label, label)\n",
        "          loss_sum += loss.item()\n",
        "          loss.backward()\n",
        "          # torch.nn.utils.clip_grad_norm_(model.parameters(), 0.1)\n",
        "          optimizer.step()\n",
        "\n",
        "\n",
        "          total_acc += (predited_label.argmax(1) == label).sum().item()\n",
        "          total_count += label.size(0)\n",
        "            \n",
        "          \n",
        "      train_loss.append(loss_sum / len(train_loader))\n",
        "      train_acc.append(total_acc / total_count)\n",
        "\n",
        "      model.eval()\n",
        "      total_acc, total_count = 0, 0\n",
        "      loss_sum = 0\n",
        "      with torch.no_grad():\n",
        "          for idx, (label, text, offsets) in enumerate(val_loader):\n",
        "              predited_label = model(text, offsets)\n",
        "              loss = criterion(predited_label, label)\n",
        "              loss_sum += loss.item()\n",
        "              total_acc += (predited_label.argmax(1) == label).sum().item()\n",
        "              total_count += label.size(0)\n",
        "\n",
        "      val_loss.append(loss_sum / len(val_loader))\n",
        "      val_acc.append(total_acc / total_count)\n",
        "\n",
        "  return train_loss, train_acc, val_loss, val_acc"
      ],
      "metadata": {
        "id": "kPmpYfNtsxay"
      },
      "execution_count": 112,
      "outputs": []
    },
    {
      "cell_type": "code",
      "source": [
        "from torch.utils.data.dataset import random_split\n",
        "from torchtext.data.functional import to_map_style_dataset\n",
        "# Hyperparameters\n",
        "EPOCHS = 10 # epoch\n",
        "LR =10  # learning rate\n",
        "BATCH_SIZE = 64 # batch size for training\n",
        "\n",
        "criterion = torch.nn.CrossEntropyLoss()\n",
        "optimizer = torch.optim.RMSprop(model.parameters(), lr=0.01)\n",
        "# scheduler = torch.optim.lr_scheduler.StepLR(optimizer, 1.0, gamma=0.1)\n",
        "total_accu = None\n",
        "\n",
        "train_iter2 = train_dat\n",
        "valid_iter2= valid_dat\n",
        "\n",
        "\n",
        "\n",
        "\n",
        "train_dataloader = DataLoader(train_iter2, batch_size=BATCH_SIZE,\n",
        "                              shuffle=True, collate_fn=collate_batch)\n",
        "valid_dataloader = DataLoader(valid_iter2, batch_size=BATCH_SIZE,\n",
        "                              shuffle=True, collate_fn=collate_batch)\n"
      ],
      "metadata": {
        "id": "_Ah6jzjtsxdc"
      },
      "execution_count": 141,
      "outputs": []
    },
    {
      "cell_type": "code",
      "source": [
        "info = train(train_dataloader, valid_dataloader,epochs=10)"
      ],
      "metadata": {
        "colab": {
          "base_uri": "https://localhost:8080/",
          "height": 836
        },
        "id": "GHj7ZXID3apH",
        "outputId": "3e53a5d2-72e8-474c-b2d0-d97a8453dd64"
      },
      "execution_count": 142,
      "outputs": [
        {
          "output_type": "stream",
          "name": "stderr",
          "text": [
            "0it [00:00, ?it/s]\n"
          ]
        },
        {
          "output_type": "error",
          "ename": "RuntimeError",
          "evalue": "ignored",
          "traceback": [
            "\u001b[0;31m---------------------------------------------------------------------------\u001b[0m",
            "\u001b[0;31mRuntimeError\u001b[0m                              Traceback (most recent call last)",
            "\u001b[0;32m<ipython-input-142-1d74485a5ea1>\u001b[0m in \u001b[0;36m<module>\u001b[0;34m()\u001b[0m\n\u001b[0;32m----> 1\u001b[0;31m \u001b[0minfo\u001b[0m \u001b[0;34m=\u001b[0m \u001b[0mtrain\u001b[0m\u001b[0;34m(\u001b[0m\u001b[0mtrain_dataloader\u001b[0m\u001b[0;34m,\u001b[0m \u001b[0mvalid_dataloader\u001b[0m\u001b[0;34m,\u001b[0m\u001b[0mepochs\u001b[0m\u001b[0;34m=\u001b[0m\u001b[0;36m10\u001b[0m\u001b[0;34m)\u001b[0m\u001b[0;34m\u001b[0m\u001b[0;34m\u001b[0m\u001b[0m\n\u001b[0m",
            "\u001b[0;32m<ipython-input-112-79891ce38552>\u001b[0m in \u001b[0;36mtrain\u001b[0;34m(train_loader, val_loader, epochs)\u001b[0m\n\u001b[1;32m     10\u001b[0m       \u001b[0;32mfor\u001b[0m \u001b[0midx\u001b[0m\u001b[0;34m,\u001b[0m\u001b[0;34m(\u001b[0m\u001b[0mlabel\u001b[0m\u001b[0;34m,\u001b[0m \u001b[0mtext\u001b[0m\u001b[0;34m,\u001b[0m \u001b[0moffsets\u001b[0m\u001b[0;34m)\u001b[0m \u001b[0;32min\u001b[0m \u001b[0mtqdm\u001b[0m\u001b[0;34m(\u001b[0m\u001b[0menumerate\u001b[0m\u001b[0;34m(\u001b[0m\u001b[0mtrain_loader\u001b[0m\u001b[0;34m)\u001b[0m\u001b[0;34m)\u001b[0m\u001b[0;34m:\u001b[0m\u001b[0;34m\u001b[0m\u001b[0;34m\u001b[0m\u001b[0m\n\u001b[1;32m     11\u001b[0m           \u001b[0moptimizer\u001b[0m\u001b[0;34m.\u001b[0m\u001b[0mzero_grad\u001b[0m\u001b[0;34m(\u001b[0m\u001b[0;34m)\u001b[0m\u001b[0;34m\u001b[0m\u001b[0;34m\u001b[0m\u001b[0m\n\u001b[0;32m---> 12\u001b[0;31m           \u001b[0mpredited_label\u001b[0m \u001b[0;34m=\u001b[0m \u001b[0mmodel\u001b[0m\u001b[0;34m(\u001b[0m\u001b[0mtext\u001b[0m\u001b[0;34m,\u001b[0m \u001b[0moffsets\u001b[0m\u001b[0;34m)\u001b[0m\u001b[0;34m\u001b[0m\u001b[0;34m\u001b[0m\u001b[0m\n\u001b[0m\u001b[1;32m     13\u001b[0m           \u001b[0mloss\u001b[0m \u001b[0;34m=\u001b[0m \u001b[0mcriterion\u001b[0m\u001b[0;34m(\u001b[0m\u001b[0mpredited_label\u001b[0m\u001b[0;34m,\u001b[0m \u001b[0mlabel\u001b[0m\u001b[0;34m)\u001b[0m\u001b[0;34m\u001b[0m\u001b[0;34m\u001b[0m\u001b[0m\n\u001b[1;32m     14\u001b[0m           \u001b[0mloss_sum\u001b[0m \u001b[0;34m+=\u001b[0m \u001b[0mloss\u001b[0m\u001b[0;34m.\u001b[0m\u001b[0mitem\u001b[0m\u001b[0;34m(\u001b[0m\u001b[0;34m)\u001b[0m\u001b[0;34m\u001b[0m\u001b[0;34m\u001b[0m\u001b[0m\n",
            "\u001b[0;32m/usr/local/lib/python3.7/dist-packages/torch/nn/modules/module.py\u001b[0m in \u001b[0;36m_call_impl\u001b[0;34m(self, *input, **kwargs)\u001b[0m\n\u001b[1;32m   1108\u001b[0m         if not (self._backward_hooks or self._forward_hooks or self._forward_pre_hooks or _global_backward_hooks\n\u001b[1;32m   1109\u001b[0m                 or _global_forward_hooks or _global_forward_pre_hooks):\n\u001b[0;32m-> 1110\u001b[0;31m             \u001b[0;32mreturn\u001b[0m \u001b[0mforward_call\u001b[0m\u001b[0;34m(\u001b[0m\u001b[0;34m*\u001b[0m\u001b[0minput\u001b[0m\u001b[0;34m,\u001b[0m \u001b[0;34m**\u001b[0m\u001b[0mkwargs\u001b[0m\u001b[0;34m)\u001b[0m\u001b[0;34m\u001b[0m\u001b[0;34m\u001b[0m\u001b[0m\n\u001b[0m\u001b[1;32m   1111\u001b[0m         \u001b[0;31m# Do not call functions when jit is used\u001b[0m\u001b[0;34m\u001b[0m\u001b[0;34m\u001b[0m\u001b[0;34m\u001b[0m\u001b[0m\n\u001b[1;32m   1112\u001b[0m         \u001b[0mfull_backward_hooks\u001b[0m\u001b[0;34m,\u001b[0m \u001b[0mnon_full_backward_hooks\u001b[0m \u001b[0;34m=\u001b[0m \u001b[0;34m[\u001b[0m\u001b[0;34m]\u001b[0m\u001b[0;34m,\u001b[0m \u001b[0;34m[\u001b[0m\u001b[0;34m]\u001b[0m\u001b[0;34m\u001b[0m\u001b[0;34m\u001b[0m\u001b[0m\n",
            "\u001b[0;32m<ipython-input-139-e45296727017>\u001b[0m in \u001b[0;36mforward\u001b[0;34m(self, text, offsets)\u001b[0m\n\u001b[1;32m     21\u001b[0m     \u001b[0;32mdef\u001b[0m \u001b[0mforward\u001b[0m\u001b[0;34m(\u001b[0m\u001b[0mself\u001b[0m\u001b[0;34m,\u001b[0m \u001b[0mtext\u001b[0m\u001b[0;34m,\u001b[0m \u001b[0moffsets\u001b[0m\u001b[0;34m)\u001b[0m\u001b[0;34m:\u001b[0m\u001b[0;34m\u001b[0m\u001b[0;34m\u001b[0m\u001b[0m\n\u001b[1;32m     22\u001b[0m         \u001b[0;31m# embedded = self.embedding(text, offsets)\u001b[0m\u001b[0;34m\u001b[0m\u001b[0;34m\u001b[0m\u001b[0;34m\u001b[0m\u001b[0m\n\u001b[0;32m---> 23\u001b[0;31m         \u001b[0mx\u001b[0m \u001b[0;34m=\u001b[0m \u001b[0mF\u001b[0m\u001b[0;34m.\u001b[0m\u001b[0mrelu\u001b[0m\u001b[0;34m(\u001b[0m\u001b[0mself\u001b[0m\u001b[0;34m.\u001b[0m\u001b[0mfc1\u001b[0m\u001b[0;34m(\u001b[0m\u001b[0mtext\u001b[0m\u001b[0;34m)\u001b[0m\u001b[0;34m)\u001b[0m\u001b[0;34m\u001b[0m\u001b[0;34m\u001b[0m\u001b[0m\n\u001b[0m\u001b[1;32m     24\u001b[0m         \u001b[0mx\u001b[0m \u001b[0;34m=\u001b[0m \u001b[0mF\u001b[0m\u001b[0;34m.\u001b[0m\u001b[0mrelu\u001b[0m\u001b[0;34m(\u001b[0m\u001b[0mself\u001b[0m\u001b[0;34m.\u001b[0m\u001b[0mfc2\u001b[0m\u001b[0;34m(\u001b[0m\u001b[0mx\u001b[0m\u001b[0;34m)\u001b[0m\u001b[0;34m)\u001b[0m\u001b[0;34m\u001b[0m\u001b[0;34m\u001b[0m\u001b[0m\n\u001b[1;32m     25\u001b[0m         \u001b[0mx\u001b[0m \u001b[0;34m=\u001b[0m \u001b[0mself\u001b[0m\u001b[0;34m.\u001b[0m\u001b[0mfc3\u001b[0m\u001b[0;34m(\u001b[0m\u001b[0mx\u001b[0m\u001b[0;34m)\u001b[0m\u001b[0;34m\u001b[0m\u001b[0;34m\u001b[0m\u001b[0m\n",
            "\u001b[0;32m/usr/local/lib/python3.7/dist-packages/torch/nn/modules/module.py\u001b[0m in \u001b[0;36m_call_impl\u001b[0;34m(self, *input, **kwargs)\u001b[0m\n\u001b[1;32m   1108\u001b[0m         if not (self._backward_hooks or self._forward_hooks or self._forward_pre_hooks or _global_backward_hooks\n\u001b[1;32m   1109\u001b[0m                 or _global_forward_hooks or _global_forward_pre_hooks):\n\u001b[0;32m-> 1110\u001b[0;31m             \u001b[0;32mreturn\u001b[0m \u001b[0mforward_call\u001b[0m\u001b[0;34m(\u001b[0m\u001b[0;34m*\u001b[0m\u001b[0minput\u001b[0m\u001b[0;34m,\u001b[0m \u001b[0;34m**\u001b[0m\u001b[0mkwargs\u001b[0m\u001b[0;34m)\u001b[0m\u001b[0;34m\u001b[0m\u001b[0;34m\u001b[0m\u001b[0m\n\u001b[0m\u001b[1;32m   1111\u001b[0m         \u001b[0;31m# Do not call functions when jit is used\u001b[0m\u001b[0;34m\u001b[0m\u001b[0;34m\u001b[0m\u001b[0;34m\u001b[0m\u001b[0m\n\u001b[1;32m   1112\u001b[0m         \u001b[0mfull_backward_hooks\u001b[0m\u001b[0;34m,\u001b[0m \u001b[0mnon_full_backward_hooks\u001b[0m \u001b[0;34m=\u001b[0m \u001b[0;34m[\u001b[0m\u001b[0;34m]\u001b[0m\u001b[0;34m,\u001b[0m \u001b[0;34m[\u001b[0m\u001b[0;34m]\u001b[0m\u001b[0;34m\u001b[0m\u001b[0;34m\u001b[0m\u001b[0m\n",
            "\u001b[0;32m/usr/local/lib/python3.7/dist-packages/torch/nn/modules/linear.py\u001b[0m in \u001b[0;36mforward\u001b[0;34m(self, input)\u001b[0m\n\u001b[1;32m    101\u001b[0m \u001b[0;34m\u001b[0m\u001b[0m\n\u001b[1;32m    102\u001b[0m     \u001b[0;32mdef\u001b[0m \u001b[0mforward\u001b[0m\u001b[0;34m(\u001b[0m\u001b[0mself\u001b[0m\u001b[0;34m,\u001b[0m \u001b[0minput\u001b[0m\u001b[0;34m:\u001b[0m \u001b[0mTensor\u001b[0m\u001b[0;34m)\u001b[0m \u001b[0;34m->\u001b[0m \u001b[0mTensor\u001b[0m\u001b[0;34m:\u001b[0m\u001b[0;34m\u001b[0m\u001b[0;34m\u001b[0m\u001b[0m\n\u001b[0;32m--> 103\u001b[0;31m         \u001b[0;32mreturn\u001b[0m \u001b[0mF\u001b[0m\u001b[0;34m.\u001b[0m\u001b[0mlinear\u001b[0m\u001b[0;34m(\u001b[0m\u001b[0minput\u001b[0m\u001b[0;34m,\u001b[0m \u001b[0mself\u001b[0m\u001b[0;34m.\u001b[0m\u001b[0mweight\u001b[0m\u001b[0;34m,\u001b[0m \u001b[0mself\u001b[0m\u001b[0;34m.\u001b[0m\u001b[0mbias\u001b[0m\u001b[0;34m)\u001b[0m\u001b[0;34m\u001b[0m\u001b[0;34m\u001b[0m\u001b[0m\n\u001b[0m\u001b[1;32m    104\u001b[0m \u001b[0;34m\u001b[0m\u001b[0m\n\u001b[1;32m    105\u001b[0m     \u001b[0;32mdef\u001b[0m \u001b[0mextra_repr\u001b[0m\u001b[0;34m(\u001b[0m\u001b[0mself\u001b[0m\u001b[0;34m)\u001b[0m \u001b[0;34m->\u001b[0m \u001b[0mstr\u001b[0m\u001b[0;34m:\u001b[0m\u001b[0;34m\u001b[0m\u001b[0;34m\u001b[0m\u001b[0m\n",
            "\u001b[0;31mRuntimeError\u001b[0m: mat1 and mat2 shapes cannot be multiplied (1x3858 and 148193x64)"
          ]
        }
      ]
    },
    {
      "cell_type": "code",
      "source": [
        "plot_trainig(*info)"
      ],
      "metadata": {
        "colab": {
          "base_uri": "https://localhost:8080/",
          "height": 551
        },
        "id": "a-3VcVpw2-PV",
        "outputId": "ad8c5983-c439-4299-a983-af47cf04d2a1"
      },
      "execution_count": 109,
      "outputs": [
        {
          "output_type": "display_data",
          "data": {
            "text/plain": [
              "<Figure size 864x648 with 2 Axes>"
            ],
            "image/png": "[encoded data removed]"
          },
          "metadata": {
            "needs_background": "light"
          }
        }
      ]
    },
    {
      "cell_type": "markdown",
      "source": [
        "## 2.4 Попробуйте различные функции активации\n",
        "\n",
        "Обучите 4 модели, используя 4 различных функции активации на промежуточных слоях: sigmoid, tanh, ReLU, ELU. На выходном слое в качестве функции активации используйте сигмоиду.\n",
        "\n",
        "Постройте: 1) график loss для train и test в зависимости от используемой функции активации; 2) график accuracy для train и test в зависимости от используемой функции активации;"
      ],
      "metadata": {
        "id": "XkGzw7o-Tc2O"
      }
    },
    {
      "cell_type": "code",
      "source": [
        ""
      ],
      "metadata": {
        "id": "EwKhNDEg2Yzi"
      },
      "execution_count": null,
      "outputs": []
    },
    {
      "cell_type": "code",
      "source": [
        ""
      ],
      "metadata": {
        "id": "9G7xxbgjTc2O"
      },
      "execution_count": null,
      "outputs": []
    },
    {
      "cell_type": "markdown",
      "source": [
        "## 2.5 Попробуйте различные алгоритмы оптимизации\n",
        "\n",
        "Обучите 4 модели, используя 4 различных алгоритма оптимизации: SGD, SGD with momentum, RMSprop, Adam\n",
        "\n",
        "Постройте: 1) график loss для train и test в зависимости от используемого  алгоритма оптимизации; 2) график accuracy для train и test в зависимости от используемого  алгоритма оптимизации."
      ],
      "metadata": {
        "id": "lRFVFDcqTc2O"
      }
    },
    {
      "cell_type": "code",
      "source": [
        ""
      ],
      "metadata": {
        "id": "OVXBQqYITc2O"
      },
      "execution_count": null,
      "outputs": []
    },
    {
      "cell_type": "markdown",
      "source": [
        "## 2.6 Попробуйте добавить dropout и batch norm\n",
        "\n",
        "Обучите 5 моделей, используя 5 различных конфигураций: только BatchNorm, только dropout 0.2, только dropout 0.5, BatchNorm + dropout 0.2, BatchNorm + dropout 0.5.\n",
        "\n",
        "Постройте: 1) график loss для train и test в зависимости от используемой конфигурации; 2) график accuracy для train и test в зависимости от используемой конфигурации."
      ],
      "metadata": {
        "id": "ihobg30TTc2O"
      }
    },
    {
      "cell_type": "code",
      "source": [
        ""
      ],
      "metadata": {
        "id": "GvAwr2BETc2P"
      },
      "execution_count": null,
      "outputs": []
    },
    {
      "cell_type": "markdown",
      "source": [
        "## 2.7 Постройте финальную модель\n",
        "\n",
        "Используя информацию, полученную на предыдущих этапах, предложите оптимальную конфигурацию нейронной сети для вашей задачи. Обучите модель."
      ],
      "metadata": {
        "id": "CYtBxIU-Tc2P"
      }
    },
    {
      "cell_type": "code",
      "source": [
        ""
      ],
      "metadata": {
        "id": "ccY4B2QTTiHs"
      },
      "execution_count": null,
      "outputs": []
    },
    {
      "cell_type": "markdown",
      "source": [
        "## 2.8 Выводы\n",
        "\n",
        "*Your beautiful thoughts:*"
      ],
      "metadata": {
        "id": "9YdprgXnTiST"
      }
    },
    {
      "cell_type": "code",
      "source": [
        ""
      ],
      "metadata": {
        "id": "xETCJROE7Ig2"
      },
      "execution_count": null,
      "outputs": []
    },
    {
      "cell_type": "code",
      "source": [
        ""
      ],
      "metadata": {
        "id": "4ZSznAQH7Ijf"
      },
      "execution_count": null,
      "outputs": []
    },
    {
      "cell_type": "code",
      "source": [
        "from sklearn.feature_extraction.text import TfidfVectorizer, CountVectorizer\n",
        "from torch.utils.data import DataLoader\n",
        "from torchtext.data.functional import to_map_style_dataset\n",
        "\n",
        "vectorizer = CountVectorizer(vocabulary=vocab.get_itos(), tokenizer=tokenizer)\n",
        "\n",
        "def vectorize_batch(batch):\n",
        "    Y, X = list(zip(*batch))\n",
        "    X = vectorizer.transform(X).todense()\n",
        "    return torch.tensor(X, dtype=torch.float32), torch.tensor(Y) - 1 ## We have deducted 1 from"
      ],
      "metadata": {
        "id": "Cl24iumEKXXd"
      },
      "execution_count": 126,
      "outputs": []
    },
    {
      "cell_type": "code",
      "source": [
        "train_dataset, test_dataset  = train_dat, valid_dat\n",
        "train_dataset, test_dataset = to_map_style_dataset(train_dataset), to_map_style_dataset(test_dataset)\n",
        "\n",
        "train_loader = DataLoader(train_dataset, batch_size=256, collate_fn=vectorize_batch)\n",
        "test_loader  = DataLoader(test_dataset, batch_size=256, collate_fn=vectorize_batch)"
      ],
      "metadata": {
        "id": "L2WBWMwm7EdE"
      },
      "execution_count": 130,
      "outputs": []
    },
    {
      "cell_type": "code",
      "source": [
        "class TextClassifier(nn.Module):\n",
        "    def __init__(self):\n",
        "        super(TextClassifier, self).__init__()\n",
        "        self.seq = nn.Sequential(\n",
        "            nn.Linear(len(vocab), 128),\n",
        "            nn.ReLU(),\n",
        "\n",
        "            nn.Linear(128, 64),\n",
        "            nn.ReLU(),\n",
        "\n",
        "            nn.Linear(64, 2),\n",
        "            #nn.ReLU(),\n",
        "\n",
        "            #nn.Linear(64, 4),\n",
        "        )\n",
        "\n",
        "    def forward(self, X_batch):\n",
        "        return self.seq(X_batch)\n"
      ],
      "metadata": {
        "id": "e61dAeKy712Y"
      },
      "execution_count": 143,
      "outputs": []
    },
    {
      "cell_type": "code",
      "source": [
        "text_classifier = TextClassifier()\n",
        "for X, Y in train_loader:\n",
        "    Y_preds = text_classifier(X)\n",
        "    print(Y_preds.shape)\n",
        "    break"
      ],
      "metadata": {
        "colab": {
          "base_uri": "https://localhost:8080/"
        },
        "id": "I2ApPKaC752H",
        "outputId": "6ba16412-e958-426d-f81a-055b2cb87334"
      },
      "execution_count": 133,
      "outputs": [
        {
          "output_type": "stream",
          "name": "stdout",
          "text": [
            "torch.Size([256, 4])\n"
          ]
        }
      ]
    },
    {
      "cell_type": "code",
      "source": [
        "from tqdm import tqdm\n",
        "from sklearn.metrics import accuracy_score\n",
        "import gc\n",
        "\n",
        "def CalcValLossAndAccuracy(model, loss_fn, val_loader):\n",
        "    with torch.no_grad():\n",
        "        Y_shuffled, Y_preds, losses = [],[],[]\n",
        "        for X, Y in val_loader:\n",
        "            preds = model(X)\n",
        "            loss = loss_fn(preds, Y)\n",
        "            losses.append(loss.item())\n",
        "\n",
        "            Y_shuffled.append(Y)\n",
        "            Y_preds.append(preds.argmax(dim=-1))\n",
        "\n",
        "        Y_shuffled = torch.cat(Y_shuffled)\n",
        "        Y_preds = torch.cat(Y_preds)\n",
        "\n",
        "        print(\"Valid Loss : {:.3f}\".format(torch.tensor(losses).mean()))\n",
        "        print(\"Valid Acc  : {:.3f}\".format(accuracy_score(Y_shuffled.detach().numpy(), Y_preds.detach().numpy())))\n",
        "\n",
        "\n",
        "def TrainModel(model, loss_fn, optimizer, train_loader, val_loader, epochs=10):\n",
        "    for i in range(1, epochs+1):\n",
        "        losses = []\n",
        "        for X, Y in tqdm(train_loader):\n",
        "            Y_preds = model(X)\n",
        "\n",
        "            loss = loss_fn(Y_preds, Y)\n",
        "            losses.append(loss.item())\n",
        "\n",
        "            optimizer.zero_grad()\n",
        "            loss.backward()\n",
        "            optimizer.step()\n",
        "\n",
        "        print(\"Train Loss : {:.3f}\".format(torch.tensor(losses).mean()))\n",
        "        CalcValLossAndAccuracy(model, loss_fn, val_loader)"
      ],
      "metadata": {
        "id": "csqjVyLX7_P4"
      },
      "execution_count": 134,
      "outputs": []
    },
    {
      "cell_type": "code",
      "source": [
        "epochs = 3\n",
        "learning_rate = 1e-4\n",
        "\n",
        "loss_fn = torch.nn.CrossEntropyLoss()\n",
        "text_classifier = TextClassifier()\n",
        "optimizer = torch.optim.Adam(text_classifier.parameters(), lr=learning_rate)\n",
        "\n",
        "TrainModel(text_classifier, loss_fn, optimizer, train_loader, test_loader, epochs)"
      ],
      "metadata": {
        "colab": {
          "base_uri": "https://localhost:8080/",
          "height": 746
        },
        "id": "ygLzryVX8DaD",
        "outputId": "ab59ff85-c7c6-45f8-9439-7c2747fb602b"
      },
      "execution_count": 144,
      "outputs": [
        {
          "output_type": "stream",
          "name": "stderr",
          "text": [
            "  0%|          | 0/499 [00:00<?, ?it/s]\n"
          ]
        },
        {
          "output_type": "error",
          "ename": "IndexError",
          "evalue": "ignored",
          "traceback": [
            "\u001b[0;31m---------------------------------------------------------------------------\u001b[0m",
            "\u001b[0;31mIndexError\u001b[0m                                Traceback (most recent call last)",
            "\u001b[0;32m<ipython-input-144-c7ea167e1d77>\u001b[0m in \u001b[0;36m<module>\u001b[0;34m()\u001b[0m\n\u001b[1;32m      6\u001b[0m \u001b[0moptimizer\u001b[0m \u001b[0;34m=\u001b[0m \u001b[0mtorch\u001b[0m\u001b[0;34m.\u001b[0m\u001b[0moptim\u001b[0m\u001b[0;34m.\u001b[0m\u001b[0mAdam\u001b[0m\u001b[0;34m(\u001b[0m\u001b[0mtext_classifier\u001b[0m\u001b[0;34m.\u001b[0m\u001b[0mparameters\u001b[0m\u001b[0;34m(\u001b[0m\u001b[0;34m)\u001b[0m\u001b[0;34m,\u001b[0m \u001b[0mlr\u001b[0m\u001b[0;34m=\u001b[0m\u001b[0mlearning_rate\u001b[0m\u001b[0;34m)\u001b[0m\u001b[0;34m\u001b[0m\u001b[0;34m\u001b[0m\u001b[0m\n\u001b[1;32m      7\u001b[0m \u001b[0;34m\u001b[0m\u001b[0m\n\u001b[0;32m----> 8\u001b[0;31m \u001b[0mTrainModel\u001b[0m\u001b[0;34m(\u001b[0m\u001b[0mtext_classifier\u001b[0m\u001b[0;34m,\u001b[0m \u001b[0mloss_fn\u001b[0m\u001b[0;34m,\u001b[0m \u001b[0moptimizer\u001b[0m\u001b[0;34m,\u001b[0m \u001b[0mtrain_loader\u001b[0m\u001b[0;34m,\u001b[0m \u001b[0mtest_loader\u001b[0m\u001b[0;34m,\u001b[0m \u001b[0mepochs\u001b[0m\u001b[0;34m)\u001b[0m\u001b[0;34m\u001b[0m\u001b[0;34m\u001b[0m\u001b[0m\n\u001b[0m",
            "\u001b[0;32m<ipython-input-134-0e6e32c3b623>\u001b[0m in \u001b[0;36mTrainModel\u001b[0;34m(model, loss_fn, optimizer, train_loader, val_loader, epochs)\u001b[0m\n\u001b[1;32m     27\u001b[0m             \u001b[0mY_preds\u001b[0m \u001b[0;34m=\u001b[0m \u001b[0mmodel\u001b[0m\u001b[0;34m(\u001b[0m\u001b[0mX\u001b[0m\u001b[0;34m)\u001b[0m\u001b[0;34m\u001b[0m\u001b[0;34m\u001b[0m\u001b[0m\n\u001b[1;32m     28\u001b[0m \u001b[0;34m\u001b[0m\u001b[0m\n\u001b[0;32m---> 29\u001b[0;31m             \u001b[0mloss\u001b[0m \u001b[0;34m=\u001b[0m \u001b[0mloss_fn\u001b[0m\u001b[0;34m(\u001b[0m\u001b[0mY_preds\u001b[0m\u001b[0;34m,\u001b[0m \u001b[0mY\u001b[0m\u001b[0;34m)\u001b[0m\u001b[0;34m\u001b[0m\u001b[0;34m\u001b[0m\u001b[0m\n\u001b[0m\u001b[1;32m     30\u001b[0m             \u001b[0mlosses\u001b[0m\u001b[0;34m.\u001b[0m\u001b[0mappend\u001b[0m\u001b[0;34m(\u001b[0m\u001b[0mloss\u001b[0m\u001b[0;34m.\u001b[0m\u001b[0mitem\u001b[0m\u001b[0;34m(\u001b[0m\u001b[0;34m)\u001b[0m\u001b[0;34m)\u001b[0m\u001b[0;34m\u001b[0m\u001b[0;34m\u001b[0m\u001b[0m\n\u001b[1;32m     31\u001b[0m \u001b[0;34m\u001b[0m\u001b[0m\n",
            "\u001b[0;32m/usr/local/lib/python3.7/dist-packages/torch/nn/modules/module.py\u001b[0m in \u001b[0;36m_call_impl\u001b[0;34m(self, *input, **kwargs)\u001b[0m\n\u001b[1;32m   1108\u001b[0m         if not (self._backward_hooks or self._forward_hooks or self._forward_pre_hooks or _global_backward_hooks\n\u001b[1;32m   1109\u001b[0m                 or _global_forward_hooks or _global_forward_pre_hooks):\n\u001b[0;32m-> 1110\u001b[0;31m             \u001b[0;32mreturn\u001b[0m \u001b[0mforward_call\u001b[0m\u001b[0;34m(\u001b[0m\u001b[0;34m*\u001b[0m\u001b[0minput\u001b[0m\u001b[0;34m,\u001b[0m \u001b[0;34m**\u001b[0m\u001b[0mkwargs\u001b[0m\u001b[0;34m)\u001b[0m\u001b[0;34m\u001b[0m\u001b[0;34m\u001b[0m\u001b[0m\n\u001b[0m\u001b[1;32m   1111\u001b[0m         \u001b[0;31m# Do not call functions when jit is used\u001b[0m\u001b[0;34m\u001b[0m\u001b[0;34m\u001b[0m\u001b[0;34m\u001b[0m\u001b[0m\n\u001b[1;32m   1112\u001b[0m         \u001b[0mfull_backward_hooks\u001b[0m\u001b[0;34m,\u001b[0m \u001b[0mnon_full_backward_hooks\u001b[0m \u001b[0;34m=\u001b[0m \u001b[0;34m[\u001b[0m\u001b[0;34m]\u001b[0m\u001b[0;34m,\u001b[0m \u001b[0;34m[\u001b[0m\u001b[0;34m]\u001b[0m\u001b[0;34m\u001b[0m\u001b[0;34m\u001b[0m\u001b[0m\n",
            "\u001b[0;32m/usr/local/lib/python3.7/dist-packages/torch/nn/modules/loss.py\u001b[0m in \u001b[0;36mforward\u001b[0;34m(self, input, target)\u001b[0m\n\u001b[1;32m   1163\u001b[0m         return F.cross_entropy(input, target, weight=self.weight,\n\u001b[1;32m   1164\u001b[0m                                \u001b[0mignore_index\u001b[0m\u001b[0;34m=\u001b[0m\u001b[0mself\u001b[0m\u001b[0;34m.\u001b[0m\u001b[0mignore_index\u001b[0m\u001b[0;34m,\u001b[0m \u001b[0mreduction\u001b[0m\u001b[0;34m=\u001b[0m\u001b[0mself\u001b[0m\u001b[0;34m.\u001b[0m\u001b[0mreduction\u001b[0m\u001b[0;34m,\u001b[0m\u001b[0;34m\u001b[0m\u001b[0;34m\u001b[0m\u001b[0m\n\u001b[0;32m-> 1165\u001b[0;31m                                label_smoothing=self.label_smoothing)\n\u001b[0m\u001b[1;32m   1166\u001b[0m \u001b[0;34m\u001b[0m\u001b[0m\n\u001b[1;32m   1167\u001b[0m \u001b[0;34m\u001b[0m\u001b[0m\n",
            "\u001b[0;32m/usr/local/lib/python3.7/dist-packages/torch/nn/functional.py\u001b[0m in \u001b[0;36mcross_entropy\u001b[0;34m(input, target, weight, size_average, ignore_index, reduce, reduction, label_smoothing)\u001b[0m\n\u001b[1;32m   2994\u001b[0m     \u001b[0;32mif\u001b[0m \u001b[0msize_average\u001b[0m \u001b[0;32mis\u001b[0m \u001b[0;32mnot\u001b[0m \u001b[0;32mNone\u001b[0m \u001b[0;32mor\u001b[0m \u001b[0mreduce\u001b[0m \u001b[0;32mis\u001b[0m \u001b[0;32mnot\u001b[0m \u001b[0;32mNone\u001b[0m\u001b[0;34m:\u001b[0m\u001b[0;34m\u001b[0m\u001b[0;34m\u001b[0m\u001b[0m\n\u001b[1;32m   2995\u001b[0m         \u001b[0mreduction\u001b[0m \u001b[0;34m=\u001b[0m \u001b[0m_Reduction\u001b[0m\u001b[0;34m.\u001b[0m\u001b[0mlegacy_get_string\u001b[0m\u001b[0;34m(\u001b[0m\u001b[0msize_average\u001b[0m\u001b[0;34m,\u001b[0m \u001b[0mreduce\u001b[0m\u001b[0;34m)\u001b[0m\u001b[0;34m\u001b[0m\u001b[0;34m\u001b[0m\u001b[0m\n\u001b[0;32m-> 2996\u001b[0;31m     \u001b[0;32mreturn\u001b[0m \u001b[0mtorch\u001b[0m\u001b[0;34m.\u001b[0m\u001b[0m_C\u001b[0m\u001b[0;34m.\u001b[0m\u001b[0m_nn\u001b[0m\u001b[0;34m.\u001b[0m\u001b[0mcross_entropy_loss\u001b[0m\u001b[0;34m(\u001b[0m\u001b[0minput\u001b[0m\u001b[0;34m,\u001b[0m \u001b[0mtarget\u001b[0m\u001b[0;34m,\u001b[0m \u001b[0mweight\u001b[0m\u001b[0;34m,\u001b[0m \u001b[0m_Reduction\u001b[0m\u001b[0;34m.\u001b[0m\u001b[0mget_enum\u001b[0m\u001b[0;34m(\u001b[0m\u001b[0mreduction\u001b[0m\u001b[0;34m)\u001b[0m\u001b[0;34m,\u001b[0m \u001b[0mignore_index\u001b[0m\u001b[0;34m,\u001b[0m \u001b[0mlabel_smoothing\u001b[0m\u001b[0;34m)\u001b[0m\u001b[0;34m\u001b[0m\u001b[0;34m\u001b[0m\u001b[0m\n\u001b[0m\u001b[1;32m   2997\u001b[0m \u001b[0;34m\u001b[0m\u001b[0m\n\u001b[1;32m   2998\u001b[0m \u001b[0;34m\u001b[0m\u001b[0m\n",
            "\u001b[0;31mIndexError\u001b[0m: Target -1 is out of bounds."
          ]
        }
      ]
    },
    {
      "cell_type": "code",
      "source": [
        ""
      ],
      "metadata": {
        "id": "PrqQ_UEg8NlM"
      },
      "execution_count": null,
      "outputs": []
    }
  ]
}